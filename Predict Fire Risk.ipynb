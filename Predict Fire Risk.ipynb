{
 "cells": [
  {
   "cell_type": "code",
   "execution_count": 84,
   "metadata": {},
   "outputs": [],
   "source": [
    "%matplotlib inline\n",
    "import pandas as pd\n",
    "import matplotlib.pyplot as plt\n",
    "import seaborn as sns\n",
    "import numpy as np\n",
    "import datetime\n",
    "\n",
    "from sklearn.ensemble import RandomForestClassifier\n",
    "from sklearn.preprocessing import OneHotEncoder\n",
    "from sklearn.metrics import make_scorer, mean_squared_error\n",
    "from sklearn.model_selection import GridSearchCV, KFold, train_test_split"
   ]
  },
  {
   "cell_type": "code",
   "execution_count": 50,
   "metadata": {},
   "outputs": [],
   "source": [
    "# Predict whether a call is for a fire "
   ]
  },
  {
   "cell_type": "code",
   "execution_count": 51,
   "metadata": {},
   "outputs": [],
   "source": [
    "df_data_09_11 = pd.read_csv('LFB incident data 1 Jan 2009 to 31 Dec 2011.csv', index_col=0)\n",
    "df_data_12_15 = pd.read_csv('LFB incident data 1 Jan 2012 to 31 Aug 2015.csv', index_col=0)"
   ]
  },
  {
   "cell_type": "code",
   "execution_count": 52,
   "metadata": {},
   "outputs": [],
   "source": [
    "# Concatenate them into a single dataframe\n",
    "df_incident_data = pd.concat([df_data_09_11, df_data_12_15])"
   ]
  },
  {
   "cell_type": "code",
   "execution_count": 85,
   "metadata": {},
   "outputs": [
    {
     "data": {
      "text/html": [
       "<div>\n",
       "<style scoped>\n",
       "    .dataframe tbody tr th:only-of-type {\n",
       "        vertical-align: middle;\n",
       "    }\n",
       "\n",
       "    .dataframe tbody tr th {\n",
       "        vertical-align: top;\n",
       "    }\n",
       "\n",
       "    .dataframe thead th {\n",
       "        text-align: right;\n",
       "    }\n",
       "</style>\n",
       "<table border=\"1\" class=\"dataframe\">\n",
       "  <thead>\n",
       "    <tr style=\"text-align: right;\">\n",
       "      <th></th>\n",
       "      <th>DateOfCall</th>\n",
       "      <th>TimeOfCall</th>\n",
       "      <th>IncidentGroup</th>\n",
       "      <th>StopCodeDescription</th>\n",
       "      <th>SpecialServiceType</th>\n",
       "      <th>PropertyCategory</th>\n",
       "      <th>PropertyType</th>\n",
       "      <th>AddressQualifier</th>\n",
       "      <th>Postcode_full</th>\n",
       "      <th>Postcode_district</th>\n",
       "      <th>...</th>\n",
       "      <th>FRS</th>\n",
       "      <th>IncidentStationGround</th>\n",
       "      <th>FirstPumpArriving_AttendanceTime</th>\n",
       "      <th>FirstPumpArriving_DeployedFromStation</th>\n",
       "      <th>SecondPumpArriving_AttendanceTime</th>\n",
       "      <th>SecondPumpArriving_DeployedFromStation</th>\n",
       "      <th>NumStationsWithPumpsAttending</th>\n",
       "      <th>NumPumpsAttending</th>\n",
       "      <th>is_fire</th>\n",
       "      <th>Month</th>\n",
       "    </tr>\n",
       "    <tr>\n",
       "      <th>IncidentNumber</th>\n",
       "      <th></th>\n",
       "      <th></th>\n",
       "      <th></th>\n",
       "      <th></th>\n",
       "      <th></th>\n",
       "      <th></th>\n",
       "      <th></th>\n",
       "      <th></th>\n",
       "      <th></th>\n",
       "      <th></th>\n",
       "      <th></th>\n",
       "      <th></th>\n",
       "      <th></th>\n",
       "      <th></th>\n",
       "      <th></th>\n",
       "      <th></th>\n",
       "      <th></th>\n",
       "      <th></th>\n",
       "      <th></th>\n",
       "      <th></th>\n",
       "      <th></th>\n",
       "    </tr>\n",
       "  </thead>\n",
       "  <tbody>\n",
       "    <tr>\n",
       "      <th>235138081</th>\n",
       "      <td>01-Jan-09</td>\n",
       "      <td>00:00:37</td>\n",
       "      <td>Special Service</td>\n",
       "      <td>Special Service</td>\n",
       "      <td>RTC</td>\n",
       "      <td>Road Vehicle</td>\n",
       "      <td>Car</td>\n",
       "      <td>In street close to</td>\n",
       "      <td>SW11 4LB</td>\n",
       "      <td>SW11</td>\n",
       "      <td>...</td>\n",
       "      <td>London</td>\n",
       "      <td>Battersea</td>\n",
       "      <td>319.0</td>\n",
       "      <td>Battersea</td>\n",
       "      <td>342.0</td>\n",
       "      <td>Clapham</td>\n",
       "      <td>2.0</td>\n",
       "      <td>2.0</td>\n",
       "      <td>Other</td>\n",
       "      <td>Jan</td>\n",
       "    </tr>\n",
       "    <tr>\n",
       "      <th>1091</th>\n",
       "      <td>01-Jan-09</td>\n",
       "      <td>00:00:46</td>\n",
       "      <td>Special Service</td>\n",
       "      <td>Special Service</td>\n",
       "      <td>Assist other agencies</td>\n",
       "      <td>Outdoor</td>\n",
       "      <td>Lake/pond/reservoir</td>\n",
       "      <td>Open land/water - nearest address to access</td>\n",
       "      <td>SE1 7SG</td>\n",
       "      <td>SE1</td>\n",
       "      <td>...</td>\n",
       "      <td>London</td>\n",
       "      <td>Lambeth</td>\n",
       "      <td>0.0</td>\n",
       "      <td>0</td>\n",
       "      <td>0.0</td>\n",
       "      <td>0</td>\n",
       "      <td>0.0</td>\n",
       "      <td>0.0</td>\n",
       "      <td>Other</td>\n",
       "      <td>Jan</td>\n",
       "    </tr>\n",
       "    <tr>\n",
       "      <th>2091</th>\n",
       "      <td>01-Jan-09</td>\n",
       "      <td>00:03:00</td>\n",
       "      <td>Fire</td>\n",
       "      <td>Secondary Fire</td>\n",
       "      <td>0</td>\n",
       "      <td>Outdoor</td>\n",
       "      <td>Road surface/pavement</td>\n",
       "      <td>In street outside</td>\n",
       "      <td>N9 9EL</td>\n",
       "      <td>N9</td>\n",
       "      <td>...</td>\n",
       "      <td>London</td>\n",
       "      <td>Edmonton</td>\n",
       "      <td>308.0</td>\n",
       "      <td>Edmonton</td>\n",
       "      <td>0.0</td>\n",
       "      <td>0</td>\n",
       "      <td>1.0</td>\n",
       "      <td>1.0</td>\n",
       "      <td>Fire</td>\n",
       "      <td>Jan</td>\n",
       "    </tr>\n",
       "    <tr>\n",
       "      <th>3091</th>\n",
       "      <td>01-Jan-09</td>\n",
       "      <td>00:04:27</td>\n",
       "      <td>Fire</td>\n",
       "      <td>Secondary Fire</td>\n",
       "      <td>0</td>\n",
       "      <td>Outdoor</td>\n",
       "      <td>Domestic garden (vegetation not equipment)</td>\n",
       "      <td>On land associated with building</td>\n",
       "      <td>UB10 0DG</td>\n",
       "      <td>UB10</td>\n",
       "      <td>...</td>\n",
       "      <td>London</td>\n",
       "      <td>Hillingdon</td>\n",
       "      <td>210.0</td>\n",
       "      <td>Hillingdon</td>\n",
       "      <td>0.0</td>\n",
       "      <td>0</td>\n",
       "      <td>1.0</td>\n",
       "      <td>1.0</td>\n",
       "      <td>Fire</td>\n",
       "      <td>Jan</td>\n",
       "    </tr>\n",
       "    <tr>\n",
       "      <th>5091</th>\n",
       "      <td>01-Jan-09</td>\n",
       "      <td>00:05:39</td>\n",
       "      <td>Fire</td>\n",
       "      <td>Secondary Fire</td>\n",
       "      <td>0</td>\n",
       "      <td>Outdoor</td>\n",
       "      <td>Cycle path/public footpath/bridleway</td>\n",
       "      <td>In street outside</td>\n",
       "      <td>N7 8HG</td>\n",
       "      <td>N7</td>\n",
       "      <td>...</td>\n",
       "      <td>London</td>\n",
       "      <td>Holloway</td>\n",
       "      <td>233.0</td>\n",
       "      <td>Holloway</td>\n",
       "      <td>250.0</td>\n",
       "      <td>Holloway</td>\n",
       "      <td>1.0</td>\n",
       "      <td>2.0</td>\n",
       "      <td>Fire</td>\n",
       "      <td>Jan</td>\n",
       "    </tr>\n",
       "  </tbody>\n",
       "</table>\n",
       "<p>5 rows × 28 columns</p>\n",
       "</div>"
      ],
      "text/plain": [
       "               DateOfCall TimeOfCall    IncidentGroup StopCodeDescription  \\\n",
       "IncidentNumber                                                              \n",
       "235138081       01-Jan-09   00:00:37  Special Service     Special Service   \n",
       "1091            01-Jan-09   00:00:46  Special Service     Special Service   \n",
       "2091            01-Jan-09   00:03:00             Fire      Secondary Fire   \n",
       "3091            01-Jan-09   00:04:27             Fire      Secondary Fire   \n",
       "5091            01-Jan-09   00:05:39             Fire      Secondary Fire   \n",
       "\n",
       "                   SpecialServiceType PropertyCategory  \\\n",
       "IncidentNumber                                           \n",
       "235138081                         RTC     Road Vehicle   \n",
       "1091            Assist other agencies          Outdoor   \n",
       "2091                                0          Outdoor   \n",
       "3091                                0          Outdoor   \n",
       "5091                                0          Outdoor   \n",
       "\n",
       "                                               PropertyType  \\\n",
       "IncidentNumber                                                \n",
       "235138081                                              Car    \n",
       "1091                                   Lake/pond/reservoir    \n",
       "2091                                 Road surface/pavement    \n",
       "3091            Domestic garden (vegetation not equipment)    \n",
       "5091                  Cycle path/public footpath/bridleway    \n",
       "\n",
       "                                           AddressQualifier Postcode_full  \\\n",
       "IncidentNumber                                                              \n",
       "235138081                                In street close to      SW11 4LB   \n",
       "1091            Open land/water - nearest address to access       SE1 7SG   \n",
       "2091                                      In street outside        N9 9EL   \n",
       "3091                       On land associated with building      UB10 0DG   \n",
       "5091                                      In street outside        N7 8HG   \n",
       "\n",
       "               Postcode_district  ...      FRS IncidentStationGround  \\\n",
       "IncidentNumber                    ...                                  \n",
       "235138081                   SW11  ...   London             Battersea   \n",
       "1091                         SE1  ...   London               Lambeth   \n",
       "2091                          N9  ...   London              Edmonton   \n",
       "3091                        UB10  ...   London            Hillingdon   \n",
       "5091                          N7  ...   London              Holloway   \n",
       "\n",
       "               FirstPumpArriving_AttendanceTime  \\\n",
       "IncidentNumber                                    \n",
       "235138081                                 319.0   \n",
       "1091                                        0.0   \n",
       "2091                                      308.0   \n",
       "3091                                      210.0   \n",
       "5091                                      233.0   \n",
       "\n",
       "               FirstPumpArriving_DeployedFromStation  \\\n",
       "IncidentNumber                                         \n",
       "235138081                                  Battersea   \n",
       "1091                                               0   \n",
       "2091                                        Edmonton   \n",
       "3091                                      Hillingdon   \n",
       "5091                                        Holloway   \n",
       "\n",
       "                SecondPumpArriving_AttendanceTime  \\\n",
       "IncidentNumber                                      \n",
       "235138081                                   342.0   \n",
       "1091                                          0.0   \n",
       "2091                                          0.0   \n",
       "3091                                          0.0   \n",
       "5091                                        250.0   \n",
       "\n",
       "                SecondPumpArriving_DeployedFromStation  \\\n",
       "IncidentNumber                                           \n",
       "235138081                                      Clapham   \n",
       "1091                                                 0   \n",
       "2091                                                 0   \n",
       "3091                                                 0   \n",
       "5091                                          Holloway   \n",
       "\n",
       "                NumStationsWithPumpsAttending  NumPumpsAttending is_fire Month  \n",
       "IncidentNumber                                                                  \n",
       "235138081                                 2.0                2.0   Other   Jan  \n",
       "1091                                      0.0                0.0   Other   Jan  \n",
       "2091                                      1.0                1.0    Fire   Jan  \n",
       "3091                                      1.0                1.0    Fire   Jan  \n",
       "5091                                      1.0                2.0    Fire   Jan  \n",
       "\n",
       "[5 rows x 28 columns]"
      ]
     },
     "execution_count": 85,
     "metadata": {},
     "output_type": "execute_result"
    }
   ],
   "source": [
    "df_incident_data.head()"
   ]
  },
  {
   "cell_type": "code",
   "execution_count": 92,
   "metadata": {},
   "outputs": [
    {
     "data": {
      "text/plain": [
       "Index(['DateOfCall', 'TimeOfCall', 'IncidentGroup', 'StopCodeDescription',\n",
       "       'SpecialServiceType', 'PropertyCategory', 'PropertyType',\n",
       "       'AddressQualifier', 'Postcode_full', 'Postcode_district',\n",
       "       'IncGeo_BoroughCode', 'IncGeo_BoroughName', 'IncGeo_WardCode',\n",
       "       'IncGeo_WardName', 'Easting_m', 'Northing_m', 'Easting_rounded',\n",
       "       'Northing_rounded', 'FRS', 'IncidentStationGround',\n",
       "       'FirstPumpArriving_AttendanceTime',\n",
       "       'FirstPumpArriving_DeployedFromStation',\n",
       "       'SecondPumpArriving_AttendanceTime',\n",
       "       'SecondPumpArriving_DeployedFromStation',\n",
       "       'NumStationsWithPumpsAttending', 'NumPumpsAttending', 'is_fire',\n",
       "       'Month'],\n",
       "      dtype='object')"
      ]
     },
     "execution_count": 92,
     "metadata": {},
     "output_type": "execute_result"
    }
   ],
   "source": [
    "df_incident_data.columns"
   ]
  },
  {
   "cell_type": "code",
   "execution_count": 53,
   "metadata": {},
   "outputs": [
    {
     "data": {
      "text/plain": [
       "array(['Special Service', 'Fire', 'False Alarm'], dtype=object)"
      ]
     },
     "execution_count": 53,
     "metadata": {},
     "output_type": "execute_result"
    }
   ],
   "source": [
    "# What are the possible calls that the fire service get?\n",
    "df_incident_data.IncidentGroup.unique()"
   ]
  },
  {
   "cell_type": "code",
   "execution_count": 54,
   "metadata": {},
   "outputs": [],
   "source": [
    "# Target variable, IncidentGroup == Fire"
   ]
  },
  {
   "cell_type": "code",
   "execution_count": 55,
   "metadata": {},
   "outputs": [],
   "source": [
    "df_incident_data['is_fire'] = np.where(df_incident_data.IncidentGroup == 'Fire', 'Fire', 'Other')"
   ]
  },
  {
   "cell_type": "code",
   "execution_count": 56,
   "metadata": {},
   "outputs": [],
   "source": [
    "#df_incident_data.head()"
   ]
  },
  {
   "cell_type": "code",
   "execution_count": 57,
   "metadata": {},
   "outputs": [],
   "source": [
    "#df_incident_data.TimeOfCall"
   ]
  },
  {
   "cell_type": "code",
   "execution_count": null,
   "metadata": {},
   "outputs": [],
   "source": [
    "# TODO: Data Cleansing\n",
    "# more specific cleansing by column, i.e "
   ]
  },
  {
   "cell_type": "code",
   "execution_count": null,
   "metadata": {},
   "outputs": [],
   "source": [
    "def data_cleansing(dataframe):\n",
    "    #imputation, set all nan to zero for now, can be more specific and sort strategy for individual columns\n",
    "    dataframe.fillna(value=0, inplace=True)"
   ]
  },
  {
   "cell_type": "code",
   "execution_count": null,
   "metadata": {},
   "outputs": [],
   "source": [
    "df_incident_data.isnull().values.any()"
   ]
  },
  {
   "cell_type": "code",
   "execution_count": null,
   "metadata": {},
   "outputs": [],
   "source": [
    "data_cleansing(df_incident_data)"
   ]
  },
  {
   "cell_type": "code",
   "execution_count": null,
   "metadata": {},
   "outputs": [],
   "source": [
    "df_incident_data.isnull().values.any()"
   ]
  },
  {
   "cell_type": "code",
   "execution_count": 58,
   "metadata": {},
   "outputs": [],
   "source": [
    "# TODO: Feature engineering\n",
    "# Segment PropertyType into broader categories\n",
    "# Day of Week"
   ]
  },
  {
   "cell_type": "code",
   "execution_count": 87,
   "metadata": {},
   "outputs": [
    {
     "data": {
      "text/plain": [
       "array(['Road Vehicle', 'Outdoor', 'Dwelling', 'Outdoor Structure',\n",
       "       'Other Residential', 'Non Residential', 'Aircraft', 0,\n",
       "       'Rail Vehicle', 'Boat'], dtype=object)"
      ]
     },
     "execution_count": 87,
     "metadata": {},
     "output_type": "execute_result"
    }
   ],
   "source": [
    "df_incident_data.PropertyCategory.unique()"
   ]
  },
  {
   "cell_type": "code",
   "execution_count": null,
   "metadata": {},
   "outputs": [],
   "source": [
    "#Not too broad"
   ]
  },
  {
   "cell_type": "code",
   "execution_count": 88,
   "metadata": {},
   "outputs": [
    {
     "data": {
      "text/plain": [
       "array(['Car ', 'Lake/pond/reservoir ', 'Road surface/pavement ',\n",
       "       'Domestic garden (vegetation not equipment) ',\n",
       "       'Cycle path/public footpath/bridleway ',\n",
       "       'Purpose Built Flats/Maisonettes - Up to 3 storeys ',\n",
       "       'Refuse/rubbish tip ', 'Small refuse/rubbish container',\n",
       "       'Student Hall of Residence ', 'House - single occupancy ',\n",
       "       'Converted Flat/Maisonette - Up to 2 storeys ', 'Loose refuse ',\n",
       "       'Department Store ',\n",
       "       'Purpose Built Flats/Maisonettes - 4 to 9 storeys ', 'Park ',\n",
       "       'Laundrette ',\n",
       "       'Purpose Built Flats/Maisonettes - 10 or more storeys ',\n",
       "       'Hotel/motel ', 'Restaurant/cafe', 'Other outdoor location ',\n",
       "       'Large refuse/rubbish container (eg skip, paladin)', 'Museum ',\n",
       "       'House in Multiple Occupation - 3 or more storeys (not known if licensed)',\n",
       "       'Post box ', 'Converted Flat/Maisonettes - 3 or more storeys',\n",
       "       'Casino ', 'Kiosk ', 'Club/night club ', 'Nursing/Care Home',\n",
       "       'Hostel (e.g. for homeless people) ',\n",
       "       \"Nurses'/Doctors' accommodation \",\n",
       "       'Self contained Sheltered Housing ', 'Shelter ',\n",
       "       'Unlicensed House in Multiple Occupation - Up to 2 storeys ',\n",
       "       'Licensed House in Multiple Occupation - Up to 2 storeys ',\n",
       "       'Multi-Storey car park', 'Other bulk storage',\n",
       "       'Multiple Vehicles ',\n",
       "       'Roadside furniture (eg lamp posts, road signs, telegraph poles, speed cameras)',\n",
       "       'Monastery/convent ', 'Purpose built office ', 'Hospital ',\n",
       "       'Other building/use not known ', 'Airport - terminal ', 'Railway ',\n",
       "       'Railings', 'Tenement Building ', 'Local Government Office',\n",
       "       'Other retail warehouse ', 'Single shop ', 'Factory ',\n",
       "       'Shopping Centre ', 'Retirement/Old Persons Home', 'Tree scrub ',\n",
       "       'Sheltered Housing : not self contained ', 'Large supermarket ',\n",
       "       'Bridge',\n",
       "       'House in Multiple Occupation - Up to 2 storeys (not known if licensed) ',\n",
       "       'Train station - platform (below ground) ',\n",
       "       'Grassland, pasture, grazing etc ',\n",
       "       'Other medical establishment (including surgery) ',\n",
       "       'Other road vehicle', 'DIY Warehouse ', 'Prison ',\n",
       "       'Pub/wine bar/bar ', 'Bank/Building Society ',\n",
       "       'Boarding House/B&B for homeless/asylum seekers ',\n",
       "       'Takeaway, fast food ', 'Gym ',\n",
       "       'Airport building (not terminal or hangar) ',\n",
       "       'Bungalow - single occupancy ', 'Scrub land ', 'Van ',\n",
       "       'Sports/Social club ', 'Converted office ',\n",
       "       'Other Residential Home ', 'Motorcycle ', 'Exhibition Centre ',\n",
       "       'Lorry/HGV ', 'College/University ', 'Bus/coach ', 'Library ',\n",
       "       'Infant/Primary school', 'Police station ', 'Call Centre ',\n",
       "       'Other office/call centre type building',\n",
       "       'Train station - elsewhere ', 'Health Centre ',\n",
       "       'Railway trackside vegetation ',\n",
       "       'Caravan/Mobile home (permanent dwelling)', 'Pre School/nursery ',\n",
       "       'Licensed House in Multiple Occupation - 3 or more storeys ',\n",
       "       'Theatre ', 'Manufacturing assembly plant', 'Church/Chapel ',\n",
       "       'Community centre/Hall ',\n",
       "       'Unlicensed House in Multiple Occupation - 3 or more storeys ',\n",
       "       'Football stadium ', 'Printing works', 'Roadside vegetation ',\n",
       "       'Electricity power station ', 'Temple ', 'Electrical warehouse ',\n",
       "       'Pipe or drain ', 'Warehouse ', 'Light aircraft ',\n",
       "       'Other outdoor structures ', 'Leisure Centre ', 'Hairdresser ',\n",
       "       'Vehicle Repair Workshop', 'Other outdoor equipment/machinery ',\n",
       "       'Cemetery ', 'Art Gallery ', 'Underground car park',\n",
       "       'Outdoor storage ', 'Private Garden Shed ', 'Wasteland ',\n",
       "       'Other public building ', 'Secondary school', 'Bingo Hall ',\n",
       "       'Mill ', 'Train station - concourse ', 'TV/film/music/art studio ',\n",
       "       'River/canal ', 'Other Dwelling ', 'Bus/coach station/garage ',\n",
       "       'False Alarm - Property not found', 'Telephone box ',\n",
       "       'Fire station ', 'Synagogue ', 'Houseboat (permanent dwelling) ',\n",
       "       'Furniture warehouse ', 'Conference Centre ',\n",
       "       'Train station - platform (at ground level or elevated) ',\n",
       "       'Town Hall ', 'Law Courts ', 'Cinema ', 'Airport - hangar ',\n",
       "       'Intensive Farming Sheds (chickens, pigs etc) ', 'Swimming Pool ',\n",
       "       'Other industrial processing plant', 'Other retail  ',\n",
       "       'Laboratory/research Establishment ', 'Central Government Office',\n",
       "       'Engineering manufacturing plant', 'Ice rink ',\n",
       "       'Other car park structure', 'Other education establishment',\n",
       "       'Woodland/forest - broadleaf/hardwood ', 'Petrol station ',\n",
       "       'Tunnel, subway ', 'Post office (purpose built) ', 'Youth hostel ',\n",
       "       'Motor Home ', \"Children's Home\", 'Gas works ',\n",
       "       'Nurseries, market garden ', 'Public toilets ', 'Recycling plant',\n",
       "       'Cathedral ', 'Other public utility works',\n",
       "       'Other private non-residential building ', 'Indoor Market ',\n",
       "       'Cables ', 'Military/barracks ', 'Other agricultural building ',\n",
       "       'Heathland ', 'Other industrial manufacturing facility',\n",
       "       'Cricket ground ', 'Other animal boarding/breeding establishment',\n",
       "       'Recycling collection point, bottle bank',\n",
       "       'Other Religious Use Building', 'Private garage ',\n",
       "       'Animal products processing plant',\n",
       "       'Post office (within other shop/premises) ', 'Passenger plane ',\n",
       "       'Garden equipment ', 'Temporary office (eg portacabin) ',\n",
       "       'Other transport building ', 'Chemical plant', 'Caravan on tow ',\n",
       "       'Other outdoor sporting venue ',\n",
       "       'Towing caravan/Camper van on site', 'Estate Agent ',\n",
       "       'Train on Tube network', 'Vehicle sales building',\n",
       "       'Sports pavilion/shower block/changing facility ',\n",
       "       'Other indoor sporting venue ', 'Young offenders unit ',\n",
       "       'Bulk waste storage', 'Ambulance station ', 'Tram ',\n",
       "       'Tennis Courts ', 'Water works ', 'Boarding School accommodation ',\n",
       "       'Boarding House/B&B other ', 'Other cultural venue ',\n",
       "       'Other entertainment venue ', 'Barge ', 'Beach ', 'Barbeque ',\n",
       "       'Trains - engine shed ', 'Sports Hall ',\n",
       "       'Bulk hazardous materials storage', 'Minibus ',\n",
       "       'Passenger Train (national rail network) ',\n",
       "       'Underground train : Other system ', 'Railway building - other',\n",
       "       'Rugby Stadium ', 'Canal/riverbank vegetation ',\n",
       "       'Agricultural vehicle',\n",
       "       'Animal boarding/breeding establishment - dogs', 'Oil refinery ',\n",
       "       'Mosque ', 'Airport - fuel storage ', 'Concert Hall ',\n",
       "       'Other vessel ', 'Bulk gas storage', 'Bulk oil storage',\n",
       "       'Straw/stubble burning ', 'Boat - Tanker', 'Airfield/runway ',\n",
       "       'Landfill site ', 'Woodland/forest - conifers/softwood ',\n",
       "       'Mine or quarry building above ground', 'Greyhound stadium ',\n",
       "       'Tractor Shed ', 'Theme Park ',\n",
       "       'Mine or quarry (not above ground building)', 'Indoor stadium ',\n",
       "       'Road Tanker ', 'Docks ', 'Private greenhouse ', 'Motor yacht ',\n",
       "       'Railway goods yard ', 'Stacked/baled crop ', 'Travel Agent ',\n",
       "       'Private Summer house ', 'Barn ', 'Standing crop ',\n",
       "       'Camping tent ', 'Agricultural equipment ', 'Zoo ',\n",
       "       'Naval vessel ', 'Freight Train ', 'Helicopter ', 'Other aircraft',\n",
       "       'Large passenger vessel ',\n",
       "       'Other holiday residence (cottage, flat, chalet) ',\n",
       "       'Other tent/marquee ', 'Sea ', 'Milking Parlour ', 'Sewage works ',\n",
       "       'Animal boarding/breeding establishment - cats',\n",
       "       'Athletics Stadium ', 'Other merchant vessel ',\n",
       "       'Motor racing circuit ', 'Freight plane ', 'Fishing boat ',\n",
       "       'Telephone exchange', 'Greenhouse (commercial) polytunnel ',\n",
       "       'Ferry terminal ', 'Military helicopter ',\n",
       "       'Greenhouse (commercial) glass ', 'Nursing/Care Home/Hospice',\n",
       "       'Day care/Drop in centre', 'Common external bin storage area',\n",
       "       'Hedge', 'Human harm outdoors', 'Fence', 'Medical/health centre',\n",
       "       'Bicycle', 'Dental surgery', 'Doctors surgery',\n",
       "       'Ministry of Defence office', 'Golf clubhouse',\n",
       "       'Playground/Recreation area (not equipment)',\n",
       "       'Food and drink processing',\n",
       "       'Towing caravan (not on tow or on site)', 'Health spa/farm',\n",
       "       'Trailer (not attached to tractor unit)', 'Animal harm outdoors',\n",
       "       'Distillery plant', 'Bakery', 'Veterinary surgery',\n",
       "       'Golf course (not building on course)',\n",
       "       'Stately Home (part not open to public)',\n",
       "       'Royal Palace (part not open to public)', 'Racecourse ', 'Silo ',\n",
       "       'Wheelie bin (domestic size)', 'Castle (part not open to public)'],\n",
       "      dtype=object)"
      ]
     },
     "execution_count": 88,
     "metadata": {},
     "output_type": "execute_result"
    }
   ],
   "source": [
    "df_incident_data.PropertyType.unique()"
   ]
  },
  {
   "cell_type": "code",
   "execution_count": null,
   "metadata": {},
   "outputs": [],
   "source": [
    "# needs aggregating"
   ]
  },
  {
   "cell_type": "code",
   "execution_count": 89,
   "metadata": {},
   "outputs": [
    {
     "data": {
      "text/plain": [
       "array(['In street close to',\n",
       "       'Open land/water - nearest address to access', 'In street outside',\n",
       "       'On land associated with building', 'Correct incident address',\n",
       "       'On motorway / elevated road',\n",
       "       'In street remote from postal address', 'Within same building',\n",
       "       'Nearby address - street not listed',\n",
       "       'Nearby address - no building in street',\n",
       "       'Railway land or rolling stock'], dtype=object)"
      ]
     },
     "execution_count": 89,
     "metadata": {},
     "output_type": "execute_result"
    }
   ],
   "source": [
    "df_incident_data.AddressQualifier.unique()"
   ]
  },
  {
   "cell_type": "code",
   "execution_count": null,
   "metadata": {},
   "outputs": [],
   "source": [
    "def aggregate_address_qualifiers(dataframe):\n",
    "    ['Car ', 'Lake/pond/reservoir ', 'Road surface/pavement ',\n",
    "       'Domestic garden (vegetation not equipment) ',\n",
    "       'Cycle path/public footpath/bridleway ',\n",
    "       'Purpose Built Flats/Maisonettes - Up to 3 storeys ',\n",
    "       'Refuse/rubbish tip ', 'Small refuse/rubbish container',\n",
    "       'Student Hall of Residence ', 'House - single occupancy ',\n",
    "       'Converted Flat/Maisonette - Up to 2 storeys ', 'Loose refuse ',\n",
    "       'Department Store ',\n",
    "       'Purpose Built Flats/Maisonettes - 4 to 9 storeys ', 'Park ',\n",
    "       'Laundrette ',\n",
    "       'Purpose Built Flats/Maisonettes - 10 or more storeys ',\n",
    "       'Hotel/motel ', 'Restaurant/cafe', 'Other outdoor location ',\n",
    "       'Large refuse/rubbish container (eg skip, paladin)', 'Museum ',\n",
    "       'House in Multiple Occupation - 3 or more storeys (not known if licensed)',\n",
    "       'Post box ', 'Converted Flat/Maisonettes - 3 or more storeys',\n",
    "       'Casino ', 'Kiosk ', 'Club/night club ', 'Nursing/Care Home',\n",
    "       'Hostel (e.g. for homeless people) ',\n",
    "       \"Nurses'/Doctors' accommodation \",\n",
    "       'Self contained Sheltered Housing ', 'Shelter ',\n",
    "       'Unlicensed House in Multiple Occupation - Up to 2 storeys ',\n",
    "       'Licensed House in Multiple Occupation - Up to 2 storeys ',\n",
    "       'Multi-Storey car park', 'Other bulk storage',\n",
    "       'Multiple Vehicles ',\n",
    "       'Roadside furniture (eg lamp posts, road signs, telegraph poles, speed cameras)',\n",
    "       'Monastery/convent ', 'Purpose built office ', 'Hospital ',\n",
    "       'Other building/use not known ', 'Airport - terminal ', 'Railway ',\n",
    "       'Railings', 'Tenement Building ', 'Local Government Office',\n",
    "       'Other retail warehouse ', 'Single shop ', 'Factory ',\n",
    "       'Shopping Centre ', 'Retirement/Old Persons Home', 'Tree scrub ',\n",
    "       'Sheltered Housing : not self contained ', 'Large supermarket ',\n",
    "       'Bridge',\n",
    "       'House in Multiple Occupation - Up to 2 storeys (not known if licensed) ',\n",
    "       'Train station - platform (below ground) ',\n",
    "       'Grassland, pasture, grazing etc ',\n",
    "       'Other medical establishment (including surgery) ',\n",
    "       'Other road vehicle', 'DIY Warehouse ', 'Prison ',\n",
    "       'Pub/wine bar/bar ', 'Bank/Building Society ',\n",
    "       'Boarding House/B&B for homeless/asylum seekers ',\n",
    "       'Takeaway, fast food ', 'Gym ',\n",
    "       'Airport building (not terminal or hangar) ',\n",
    "       'Bungalow - single occupancy ', 'Scrub land ', 'Van ',\n",
    "       'Sports/Social club ', 'Converted office ',\n",
    "       'Other Residential Home ', 'Motorcycle ', 'Exhibition Centre ',\n",
    "       'Lorry/HGV ', 'College/University ', 'Bus/coach ', 'Library ',\n",
    "       'Infant/Primary school', 'Police station ', 'Call Centre ',\n",
    "       'Other office/call centre type building',\n",
    "       'Train station - elsewhere ', 'Health Centre ',\n",
    "       'Railway trackside vegetation ',\n",
    "       'Caravan/Mobile home (permanent dwelling)', 'Pre School/nursery ',\n",
    "       'Licensed House in Multiple Occupation - 3 or more storeys ',\n",
    "       'Theatre ', 'Manufacturing assembly plant', 'Church/Chapel ',\n",
    "       'Community centre/Hall ',\n",
    "       'Unlicensed House in Multiple Occupation - 3 or more storeys ',\n",
    "       'Football stadium ', 'Printing works', 'Roadside vegetation ',\n",
    "       'Electricity power station ', 'Temple ', 'Electrical warehouse ',\n",
    "       'Pipe or drain ', 'Warehouse ', 'Light aircraft ',\n",
    "       'Other outdoor structures ', 'Leisure Centre ', 'Hairdresser ',\n",
    "       'Vehicle Repair Workshop', 'Other outdoor equipment/machinery ',\n",
    "       'Cemetery ', 'Art Gallery ', 'Underground car park',\n",
    "       'Outdoor storage ', 'Private Garden Shed ', 'Wasteland ',\n",
    "       'Other public building ', 'Secondary school', 'Bingo Hall ',\n",
    "       'Mill ', 'Train station - concourse ', 'TV/film/music/art studio ',\n",
    "       'River/canal ', 'Other Dwelling ', 'Bus/coach station/garage ',\n",
    "       'False Alarm - Property not found', 'Telephone box ',\n",
    "       'Fire station ', 'Synagogue ', 'Houseboat (permanent dwelling) ',\n",
    "       'Furniture warehouse ', 'Conference Centre ',\n",
    "       'Train station - platform (at ground level or elevated) ',\n",
    "       'Town Hall ', 'Law Courts ', 'Cinema ', 'Airport - hangar ',\n",
    "       'Intensive Farming Sheds (chickens, pigs etc) ', 'Swimming Pool ',\n",
    "       'Other industrial processing plant', 'Other retail  ',\n",
    "       'Laboratory/research Establishment ', 'Central Government Office',\n",
    "       'Engineering manufacturing plant', 'Ice rink ',\n",
    "       'Other car park structure', 'Other education establishment',\n",
    "       'Woodland/forest - broadleaf/hardwood ', 'Petrol station ',\n",
    "       'Tunnel, subway ', 'Post office (purpose built) ', 'Youth hostel ',\n",
    "       'Motor Home ', \"Children's Home\", 'Gas works ',\n",
    "       'Nurseries, market garden ', 'Public toilets ', 'Recycling plant',\n",
    "       'Cathedral ', 'Other public utility works',\n",
    "       'Other private non-residential building ', 'Indoor Market ',\n",
    "       'Cables ', 'Military/barracks ', 'Other agricultural building ',\n",
    "       'Heathland ', 'Other industrial manufacturing facility',\n",
    "       'Cricket ground ', 'Other animal boarding/breeding establishment',\n",
    "       'Recycling collection point, bottle bank',\n",
    "       'Other Religious Use Building', 'Private garage ',\n",
    "       'Animal products processing plant',\n",
    "       'Post office (within other shop/premises) ', 'Passenger plane ',\n",
    "       'Garden equipment ', 'Temporary office (eg portacabin) ',\n",
    "       'Other transport building ', 'Chemical plant', 'Caravan on tow ',\n",
    "       'Other outdoor sporting venue ',\n",
    "       'Towing caravan/Camper van on site', 'Estate Agent ',\n",
    "       'Train on Tube network', 'Vehicle sales building',\n",
    "       'Sports pavilion/shower block/changing facility ',\n",
    "       'Other indoor sporting venue ', 'Young offenders unit ',\n",
    "       'Bulk waste storage', 'Ambulance station ', 'Tram ',\n",
    "       'Tennis Courts ', 'Water works ', 'Boarding School accommodation ',\n",
    "       'Boarding House/B&B other ', 'Other cultural venue ',\n",
    "       'Other entertainment venue ', 'Barge ', 'Beach ', 'Barbeque ',\n",
    "       'Trains - engine shed ', 'Sports Hall ',\n",
    "       'Bulk hazardous materials storage', 'Minibus ',\n",
    "       'Passenger Train (national rail network) ',\n",
    "       'Underground train : Other system ', 'Railway building - other',\n",
    "       'Rugby Stadium ', 'Canal/riverbank vegetation ',\n",
    "       'Agricultural vehicle',\n",
    "       'Animal boarding/breeding establishment - dogs', 'Oil refinery ',\n",
    "       'Mosque ', 'Airport - fuel storage ', 'Concert Hall ',\n",
    "       'Other vessel ', 'Bulk gas storage', 'Bulk oil storage',\n",
    "       'Straw/stubble burning ', 'Boat - Tanker', 'Airfield/runway ',\n",
    "       'Landfill site ', 'Woodland/forest - conifers/softwood ',\n",
    "       'Mine or quarry building above ground', 'Greyhound stadium ',\n",
    "       'Tractor Shed ', 'Theme Park ',\n",
    "       'Mine or quarry (not above ground building)', 'Indoor stadium ',\n",
    "       'Road Tanker ', 'Docks ', 'Private greenhouse ', 'Motor yacht ',\n",
    "       'Railway goods yard ', 'Stacked/baled crop ', 'Travel Agent ',\n",
    "       'Private Summer house ', 'Barn ', 'Standing crop ',\n",
    "       'Camping tent ', 'Agricultural equipment ', 'Zoo ',\n",
    "       'Naval vessel ', 'Freight Train ', 'Helicopter ', 'Other aircraft',\n",
    "       'Large passenger vessel ',\n",
    "       'Other holiday residence (cottage, flat, chalet) ',\n",
    "       'Other tent/marquee ', 'Sea ', 'Milking Parlour ', 'Sewage works ',\n",
    "       'Animal boarding/breeding establishment - cats',\n",
    "       'Athletics Stadium ', 'Other merchant vessel ',\n",
    "       'Motor racing circuit ', 'Freight plane ', 'Fishing boat ',\n",
    "       'Telephone exchange', 'Greenhouse (commercial) polytunnel ',\n",
    "       'Ferry terminal ', 'Military helicopter ',\n",
    "       'Greenhouse (commercial) glass ', 'Nursing/Care Home/Hospice',\n",
    "       'Day care/Drop in centre', 'Common external bin storage area',\n",
    "       'Hedge', 'Human harm outdoors', 'Fence', 'Medical/health centre',\n",
    "       'Bicycle', 'Dental surgery', 'Doctors surgery',\n",
    "       'Ministry of Defence office', 'Golf clubhouse',\n",
    "       'Playground/Recreation area (not equipment)',\n",
    "       'Food and drink processing',\n",
    "       'Towing caravan (not on tow or on site)', 'Health spa/farm',\n",
    "       'Trailer (not attached to tractor unit)', 'Animal harm outdoors',\n",
    "       'Distillery plant', 'Bakery', 'Veterinary surgery',\n",
    "       'Golf course (not building on course)',\n",
    "       'Stately Home (part not open to public)',\n",
    "       'Royal Palace (part not open to public)', 'Racecourse ', 'Silo ',\n",
    "       'Wheelie bin (domestic size)', 'Castle (part not open to public)']\n",
    "    dataframe['']"
   ]
  },
  {
   "cell_type": "code",
   "execution_count": 59,
   "metadata": {},
   "outputs": [],
   "source": [
    "def feature_engineering(dataframe):\n",
    "    #dataframe['is_early_morning'] = np.where(df_incident_data.TimeOfCall <= datetime0600:00, \"Yes\", \"No\")\n",
    "    dataframe['Month'] = dataframe.DateOfCall.str.split(\"-\", expand=True)[1]\n",
    "    aggregate_address_qualifiers(dataframe)"
   ]
  },
  {
   "cell_type": "code",
   "execution_count": 62,
   "metadata": {},
   "outputs": [],
   "source": [
    "feature_engineering(df_incident_data)"
   ]
  },
  {
   "cell_type": "code",
   "execution_count": 63,
   "metadata": {},
   "outputs": [],
   "source": [
    "#df_incident_data.Month.isnull().values.any()"
   ]
  },
  {
   "cell_type": "code",
   "execution_count": null,
   "metadata": {},
   "outputs": [],
   "source": [
    "# Data processing for features\n",
    "# encode categorical variables to numerical"
   ]
  },
  {
   "cell_type": "code",
   "execution_count": null,
   "metadata": {},
   "outputs": [],
   "source": []
  },
  {
   "cell_type": "code",
   "execution_count": null,
   "metadata": {},
   "outputs": [],
   "source": [
    "# Model training"
   ]
  },
  {
   "cell_type": "code",
   "execution_count": 77,
   "metadata": {},
   "outputs": [],
   "source": [
    "def split_dataset(dataframe, train_percentage=0.7):\n",
    "    \"\"\"\n",
    "    Split the dataset with train_percentage\n",
    "    \"\"\"\n",
    "    y = df_incident_data['is_fire']\n",
    "    x = df_incident_data.drop(['IncidentGroup', 'is_fire'], 1)\n",
    "    # need to drop IncidentGroup as this is the actual target but transformed to allow for binary classification\n",
    " \n",
    "    # Split dataset into train and test dataset\n",
    "    train_x, test_x, train_y, test_y = train_test_split(x, y, train_size=train_percentage)\n",
    "    \n",
    "    return train_x, test_x, train_y, test_y"
   ]
  },
  {
   "cell_type": "code",
   "execution_count": 78,
   "metadata": {},
   "outputs": [
    {
     "name": "stderr",
     "output_type": "stream",
     "text": [
      "/anaconda3/lib/python3.6/site-packages/sklearn/model_selection/_split.py:2026: FutureWarning: From version 0.21, test_size will always complement train_size unless both are specified.\n",
      "  FutureWarning)\n"
     ]
    }
   ],
   "source": [
    "train_x, test_x, train_y, test_y = split_dataset(df_incident_data)"
   ]
  },
  {
   "cell_type": "code",
   "execution_count": 81,
   "metadata": {},
   "outputs": [],
   "source": [
    "def random_forest_classifier(features, target):\n",
    "    random_forest = RandomForestClassifier()\n",
    "    random_forest.fit(features, target)\n",
    "    return random_forest"
   ]
  },
  {
   "cell_type": "code",
   "execution_count": 82,
   "metadata": {},
   "outputs": [
    {
     "ename": "ValueError",
     "evalue": "could not convert string to float: 'Nov'",
     "output_type": "error",
     "traceback": [
      "\u001b[0;31m---------------------------------------------------------------------------\u001b[0m",
      "\u001b[0;31mValueError\u001b[0m                                Traceback (most recent call last)",
      "\u001b[0;32m<ipython-input-82-05cd6c77ac74>\u001b[0m in \u001b[0;36m<module>\u001b[0;34m()\u001b[0m\n\u001b[0;32m----> 1\u001b[0;31m \u001b[0mrandom_forest\u001b[0m \u001b[0;34m=\u001b[0m \u001b[0mrandom_forest_classifier\u001b[0m\u001b[0;34m(\u001b[0m\u001b[0mtrain_x\u001b[0m\u001b[0;34m,\u001b[0m \u001b[0mtrain_y\u001b[0m\u001b[0;34m)\u001b[0m\u001b[0;34m\u001b[0m\u001b[0m\n\u001b[0m",
      "\u001b[0;32m<ipython-input-81-0fb732d6bb62>\u001b[0m in \u001b[0;36mrandom_forest_classifier\u001b[0;34m(features, target)\u001b[0m\n\u001b[1;32m      1\u001b[0m \u001b[0;32mdef\u001b[0m \u001b[0mrandom_forest_classifier\u001b[0m\u001b[0;34m(\u001b[0m\u001b[0mfeatures\u001b[0m\u001b[0;34m,\u001b[0m \u001b[0mtarget\u001b[0m\u001b[0;34m)\u001b[0m\u001b[0;34m:\u001b[0m\u001b[0;34m\u001b[0m\u001b[0m\n\u001b[1;32m      2\u001b[0m     \u001b[0mrandom_forest\u001b[0m \u001b[0;34m=\u001b[0m \u001b[0mRandomForestClassifier\u001b[0m\u001b[0;34m(\u001b[0m\u001b[0;34m)\u001b[0m\u001b[0;34m\u001b[0m\u001b[0m\n\u001b[0;32m----> 3\u001b[0;31m     \u001b[0mrandom_forest\u001b[0m\u001b[0;34m.\u001b[0m\u001b[0mfit\u001b[0m\u001b[0;34m(\u001b[0m\u001b[0mfeatures\u001b[0m\u001b[0;34m,\u001b[0m \u001b[0mtarget\u001b[0m\u001b[0;34m)\u001b[0m\u001b[0;34m\u001b[0m\u001b[0m\n\u001b[0m\u001b[1;32m      4\u001b[0m     \u001b[0;32mreturn\u001b[0m \u001b[0mrandom_forest\u001b[0m\u001b[0;34m\u001b[0m\u001b[0m\n",
      "\u001b[0;32m/anaconda3/lib/python3.6/site-packages/sklearn/ensemble/forest.py\u001b[0m in \u001b[0;36mfit\u001b[0;34m(self, X, y, sample_weight)\u001b[0m\n\u001b[1;32m    245\u001b[0m         \"\"\"\n\u001b[1;32m    246\u001b[0m         \u001b[0;31m# Validate or convert input data\u001b[0m\u001b[0;34m\u001b[0m\u001b[0;34m\u001b[0m\u001b[0m\n\u001b[0;32m--> 247\u001b[0;31m         \u001b[0mX\u001b[0m \u001b[0;34m=\u001b[0m \u001b[0mcheck_array\u001b[0m\u001b[0;34m(\u001b[0m\u001b[0mX\u001b[0m\u001b[0;34m,\u001b[0m \u001b[0maccept_sparse\u001b[0m\u001b[0;34m=\u001b[0m\u001b[0;34m\"csc\"\u001b[0m\u001b[0;34m,\u001b[0m \u001b[0mdtype\u001b[0m\u001b[0;34m=\u001b[0m\u001b[0mDTYPE\u001b[0m\u001b[0;34m)\u001b[0m\u001b[0;34m\u001b[0m\u001b[0m\n\u001b[0m\u001b[1;32m    248\u001b[0m         \u001b[0my\u001b[0m \u001b[0;34m=\u001b[0m \u001b[0mcheck_array\u001b[0m\u001b[0;34m(\u001b[0m\u001b[0my\u001b[0m\u001b[0;34m,\u001b[0m \u001b[0maccept_sparse\u001b[0m\u001b[0;34m=\u001b[0m\u001b[0;34m'csc'\u001b[0m\u001b[0;34m,\u001b[0m \u001b[0mensure_2d\u001b[0m\u001b[0;34m=\u001b[0m\u001b[0;32mFalse\u001b[0m\u001b[0;34m,\u001b[0m \u001b[0mdtype\u001b[0m\u001b[0;34m=\u001b[0m\u001b[0;32mNone\u001b[0m\u001b[0;34m)\u001b[0m\u001b[0;34m\u001b[0m\u001b[0m\n\u001b[1;32m    249\u001b[0m         \u001b[0;32mif\u001b[0m \u001b[0msample_weight\u001b[0m \u001b[0;32mis\u001b[0m \u001b[0;32mnot\u001b[0m \u001b[0;32mNone\u001b[0m\u001b[0;34m:\u001b[0m\u001b[0;34m\u001b[0m\u001b[0m\n",
      "\u001b[0;32m/anaconda3/lib/python3.6/site-packages/sklearn/utils/validation.py\u001b[0m in \u001b[0;36mcheck_array\u001b[0;34m(array, accept_sparse, dtype, order, copy, force_all_finite, ensure_2d, allow_nd, ensure_min_samples, ensure_min_features, warn_on_dtype, estimator)\u001b[0m\n\u001b[1;32m    431\u001b[0m                                       force_all_finite)\n\u001b[1;32m    432\u001b[0m     \u001b[0;32melse\u001b[0m\u001b[0;34m:\u001b[0m\u001b[0;34m\u001b[0m\u001b[0m\n\u001b[0;32m--> 433\u001b[0;31m         \u001b[0marray\u001b[0m \u001b[0;34m=\u001b[0m \u001b[0mnp\u001b[0m\u001b[0;34m.\u001b[0m\u001b[0marray\u001b[0m\u001b[0;34m(\u001b[0m\u001b[0marray\u001b[0m\u001b[0;34m,\u001b[0m \u001b[0mdtype\u001b[0m\u001b[0;34m=\u001b[0m\u001b[0mdtype\u001b[0m\u001b[0;34m,\u001b[0m \u001b[0morder\u001b[0m\u001b[0;34m=\u001b[0m\u001b[0morder\u001b[0m\u001b[0;34m,\u001b[0m \u001b[0mcopy\u001b[0m\u001b[0;34m=\u001b[0m\u001b[0mcopy\u001b[0m\u001b[0;34m)\u001b[0m\u001b[0;34m\u001b[0m\u001b[0m\n\u001b[0m\u001b[1;32m    434\u001b[0m \u001b[0;34m\u001b[0m\u001b[0m\n\u001b[1;32m    435\u001b[0m         \u001b[0;32mif\u001b[0m \u001b[0mensure_2d\u001b[0m\u001b[0;34m:\u001b[0m\u001b[0;34m\u001b[0m\u001b[0m\n",
      "\u001b[0;31mValueError\u001b[0m: could not convert string to float: 'Nov'"
     ]
    }
   ],
   "source": [
    "random_forest = random_forest_classifier(train_x, train_y)"
   ]
  },
  {
   "cell_type": "code",
   "execution_count": null,
   "metadata": {},
   "outputs": [],
   "source": []
  },
  {
   "cell_type": "code",
   "execution_count": null,
   "metadata": {},
   "outputs": [],
   "source": [
    "#TODO: Classifier then look at interractions between variables and only use the most important"
   ]
  }
 ],
 "metadata": {
  "kernelspec": {
   "display_name": "Python 3",
   "language": "python",
   "name": "python3"
  },
  "language_info": {
   "codemirror_mode": {
    "name": "ipython",
    "version": 3
   },
   "file_extension": ".py",
   "mimetype": "text/x-python",
   "name": "python",
   "nbconvert_exporter": "python",
   "pygments_lexer": "ipython3",
   "version": "3.6.4"
  }
 },
 "nbformat": 4,
 "nbformat_minor": 2
}
