{
 "cells": [
  {
   "cell_type": "code",
   "execution_count": 1,
   "metadata": {},
   "outputs": [],
   "source": [
    "%matplotlib inline\n",
    "import pandas as pd\n",
    "import matplotlib.pyplot as plt\n",
    "import seaborn as sns\n",
    "from geojson_mapper.geojson_mapper import GeoJsonMapper"
   ]
  },
  {
   "cell_type": "code",
   "execution_count": 2,
   "metadata": {},
   "outputs": [],
   "source": [
    "data_folder = 'data'\n",
    "unlabelled_geojson_file_path = data_folder + '/london.geojson'\n",
    "fires_by_postcode_output_file_path = data_folder + '/fires_by_postcode.csv'\n",
    "labelled_geojson_file_path = 'data_visualisations/london_fires_jan_09_aug_15.geojson'"
   ]
  },
  {
   "cell_type": "code",
   "execution_count": 3,
   "metadata": {},
   "outputs": [],
   "source": [
    "df_data_09_11 = pd.read_csv('LFB incident data 1 Jan 2009 to 31 Dec 2011.csv', index_col=0)\n",
    "df_data_12_15 = pd.read_csv('LFB incident data 1 Jan 2012 to 31 Aug 2015.csv', index_col=0)"
   ]
  },
  {
   "cell_type": "code",
   "execution_count": 4,
   "metadata": {},
   "outputs": [
    {
     "data": {
      "text/html": [
       "<div>\n",
       "<style scoped>\n",
       "    .dataframe tbody tr th:only-of-type {\n",
       "        vertical-align: middle;\n",
       "    }\n",
       "\n",
       "    .dataframe tbody tr th {\n",
       "        vertical-align: top;\n",
       "    }\n",
       "\n",
       "    .dataframe thead th {\n",
       "        text-align: right;\n",
       "    }\n",
       "</style>\n",
       "<table border=\"1\" class=\"dataframe\">\n",
       "  <thead>\n",
       "    <tr style=\"text-align: right;\">\n",
       "      <th></th>\n",
       "      <th>DateOfCall</th>\n",
       "      <th>TimeOfCall</th>\n",
       "      <th>IncidentGroup</th>\n",
       "      <th>StopCodeDescription</th>\n",
       "      <th>SpecialServiceType</th>\n",
       "      <th>PropertyCategory</th>\n",
       "      <th>PropertyType</th>\n",
       "      <th>AddressQualifier</th>\n",
       "      <th>Postcode_full</th>\n",
       "      <th>Postcode_district</th>\n",
       "      <th>...</th>\n",
       "      <th>Easting_rounded</th>\n",
       "      <th>Northing_rounded</th>\n",
       "      <th>FRS</th>\n",
       "      <th>IncidentStationGround</th>\n",
       "      <th>FirstPumpArriving_AttendanceTime</th>\n",
       "      <th>FirstPumpArriving_DeployedFromStation</th>\n",
       "      <th>SecondPumpArriving_AttendanceTime</th>\n",
       "      <th>SecondPumpArriving_DeployedFromStation</th>\n",
       "      <th>NumStationsWithPumpsAttending</th>\n",
       "      <th>NumPumpsAttending</th>\n",
       "    </tr>\n",
       "    <tr>\n",
       "      <th>IncidentNumber</th>\n",
       "      <th></th>\n",
       "      <th></th>\n",
       "      <th></th>\n",
       "      <th></th>\n",
       "      <th></th>\n",
       "      <th></th>\n",
       "      <th></th>\n",
       "      <th></th>\n",
       "      <th></th>\n",
       "      <th></th>\n",
       "      <th></th>\n",
       "      <th></th>\n",
       "      <th></th>\n",
       "      <th></th>\n",
       "      <th></th>\n",
       "      <th></th>\n",
       "      <th></th>\n",
       "      <th></th>\n",
       "      <th></th>\n",
       "      <th></th>\n",
       "      <th></th>\n",
       "    </tr>\n",
       "  </thead>\n",
       "  <tbody>\n",
       "    <tr>\n",
       "      <th>235138081</th>\n",
       "      <td>01-Jan-09</td>\n",
       "      <td>00:00:37</td>\n",
       "      <td>Special Service</td>\n",
       "      <td>Special Service</td>\n",
       "      <td>RTC</td>\n",
       "      <td>Road Vehicle</td>\n",
       "      <td>Car</td>\n",
       "      <td>In street close to</td>\n",
       "      <td>SW11 4LB</td>\n",
       "      <td>SW11</td>\n",
       "      <td>...</td>\n",
       "      <td>528650</td>\n",
       "      <td>176850</td>\n",
       "      <td>London</td>\n",
       "      <td>Battersea</td>\n",
       "      <td>319.0</td>\n",
       "      <td>Battersea</td>\n",
       "      <td>342.0</td>\n",
       "      <td>Clapham</td>\n",
       "      <td>2.0</td>\n",
       "      <td>2.0</td>\n",
       "    </tr>\n",
       "    <tr>\n",
       "      <th>1091</th>\n",
       "      <td>01-Jan-09</td>\n",
       "      <td>00:00:46</td>\n",
       "      <td>Special Service</td>\n",
       "      <td>Special Service</td>\n",
       "      <td>Assist other agencies</td>\n",
       "      <td>Outdoor</td>\n",
       "      <td>Lake/pond/reservoir</td>\n",
       "      <td>Open land/water - nearest address to access</td>\n",
       "      <td>SE1 7SG</td>\n",
       "      <td>SE1</td>\n",
       "      <td>...</td>\n",
       "      <td>530450</td>\n",
       "      <td>179050</td>\n",
       "      <td>London</td>\n",
       "      <td>Lambeth</td>\n",
       "      <td>NaN</td>\n",
       "      <td>NaN</td>\n",
       "      <td>NaN</td>\n",
       "      <td>NaN</td>\n",
       "      <td>NaN</td>\n",
       "      <td>NaN</td>\n",
       "    </tr>\n",
       "    <tr>\n",
       "      <th>2091</th>\n",
       "      <td>01-Jan-09</td>\n",
       "      <td>00:03:00</td>\n",
       "      <td>Fire</td>\n",
       "      <td>Secondary Fire</td>\n",
       "      <td>NaN</td>\n",
       "      <td>Outdoor</td>\n",
       "      <td>Road surface/pavement</td>\n",
       "      <td>In street outside</td>\n",
       "      <td>N9 9EL</td>\n",
       "      <td>N9</td>\n",
       "      <td>...</td>\n",
       "      <td>533750</td>\n",
       "      <td>194450</td>\n",
       "      <td>London</td>\n",
       "      <td>Edmonton</td>\n",
       "      <td>308.0</td>\n",
       "      <td>Edmonton</td>\n",
       "      <td>NaN</td>\n",
       "      <td>NaN</td>\n",
       "      <td>1.0</td>\n",
       "      <td>1.0</td>\n",
       "    </tr>\n",
       "    <tr>\n",
       "      <th>3091</th>\n",
       "      <td>01-Jan-09</td>\n",
       "      <td>00:04:27</td>\n",
       "      <td>Fire</td>\n",
       "      <td>Secondary Fire</td>\n",
       "      <td>NaN</td>\n",
       "      <td>Outdoor</td>\n",
       "      <td>Domestic garden (vegetation not equipment)</td>\n",
       "      <td>On land associated with building</td>\n",
       "      <td>UB10 0DG</td>\n",
       "      <td>UB10</td>\n",
       "      <td>...</td>\n",
       "      <td>507750</td>\n",
       "      <td>182850</td>\n",
       "      <td>London</td>\n",
       "      <td>Hillingdon</td>\n",
       "      <td>210.0</td>\n",
       "      <td>Hillingdon</td>\n",
       "      <td>NaN</td>\n",
       "      <td>NaN</td>\n",
       "      <td>1.0</td>\n",
       "      <td>1.0</td>\n",
       "    </tr>\n",
       "    <tr>\n",
       "      <th>5091</th>\n",
       "      <td>01-Jan-09</td>\n",
       "      <td>00:05:39</td>\n",
       "      <td>Fire</td>\n",
       "      <td>Secondary Fire</td>\n",
       "      <td>NaN</td>\n",
       "      <td>Outdoor</td>\n",
       "      <td>Cycle path/public footpath/bridleway</td>\n",
       "      <td>In street outside</td>\n",
       "      <td>N7 8HG</td>\n",
       "      <td>N7</td>\n",
       "      <td>...</td>\n",
       "      <td>531050</td>\n",
       "      <td>185350</td>\n",
       "      <td>London</td>\n",
       "      <td>Holloway</td>\n",
       "      <td>233.0</td>\n",
       "      <td>Holloway</td>\n",
       "      <td>250.0</td>\n",
       "      <td>Holloway</td>\n",
       "      <td>1.0</td>\n",
       "      <td>2.0</td>\n",
       "    </tr>\n",
       "  </tbody>\n",
       "</table>\n",
       "<p>5 rows × 26 columns</p>\n",
       "</div>"
      ],
      "text/plain": [
       "               DateOfCall TimeOfCall    IncidentGroup StopCodeDescription  \\\n",
       "IncidentNumber                                                              \n",
       "235138081       01-Jan-09   00:00:37  Special Service     Special Service   \n",
       "1091            01-Jan-09   00:00:46  Special Service     Special Service   \n",
       "2091            01-Jan-09   00:03:00             Fire      Secondary Fire   \n",
       "3091            01-Jan-09   00:04:27             Fire      Secondary Fire   \n",
       "5091            01-Jan-09   00:05:39             Fire      Secondary Fire   \n",
       "\n",
       "                   SpecialServiceType PropertyCategory  \\\n",
       "IncidentNumber                                           \n",
       "235138081                         RTC     Road Vehicle   \n",
       "1091            Assist other agencies          Outdoor   \n",
       "2091                              NaN          Outdoor   \n",
       "3091                              NaN          Outdoor   \n",
       "5091                              NaN          Outdoor   \n",
       "\n",
       "                                               PropertyType  \\\n",
       "IncidentNumber                                                \n",
       "235138081                                              Car    \n",
       "1091                                   Lake/pond/reservoir    \n",
       "2091                                 Road surface/pavement    \n",
       "3091            Domestic garden (vegetation not equipment)    \n",
       "5091                  Cycle path/public footpath/bridleway    \n",
       "\n",
       "                                           AddressQualifier Postcode_full  \\\n",
       "IncidentNumber                                                              \n",
       "235138081                                In street close to      SW11 4LB   \n",
       "1091            Open land/water - nearest address to access       SE1 7SG   \n",
       "2091                                      In street outside        N9 9EL   \n",
       "3091                       On land associated with building      UB10 0DG   \n",
       "5091                                      In street outside        N7 8HG   \n",
       "\n",
       "               Postcode_district        ...        Easting_rounded  \\\n",
       "IncidentNumber                          ...                          \n",
       "235138081                   SW11        ...                 528650   \n",
       "1091                         SE1        ...                 530450   \n",
       "2091                          N9        ...                 533750   \n",
       "3091                        UB10        ...                 507750   \n",
       "5091                          N7        ...                 531050   \n",
       "\n",
       "               Northing_rounded     FRS IncidentStationGround  \\\n",
       "IncidentNumber                                                  \n",
       "235138081                176850  London             Battersea   \n",
       "1091                     179050  London               Lambeth   \n",
       "2091                     194450  London              Edmonton   \n",
       "3091                     182850  London            Hillingdon   \n",
       "5091                     185350  London              Holloway   \n",
       "\n",
       "                FirstPumpArriving_AttendanceTime  \\\n",
       "IncidentNumber                                     \n",
       "235138081                                  319.0   \n",
       "1091                                         NaN   \n",
       "2091                                       308.0   \n",
       "3091                                       210.0   \n",
       "5091                                       233.0   \n",
       "\n",
       "                FirstPumpArriving_DeployedFromStation  \\\n",
       "IncidentNumber                                          \n",
       "235138081                                   Battersea   \n",
       "1091                                              NaN   \n",
       "2091                                         Edmonton   \n",
       "3091                                       Hillingdon   \n",
       "5091                                         Holloway   \n",
       "\n",
       "                SecondPumpArriving_AttendanceTime  \\\n",
       "IncidentNumber                                      \n",
       "235138081                                   342.0   \n",
       "1091                                          NaN   \n",
       "2091                                          NaN   \n",
       "3091                                          NaN   \n",
       "5091                                        250.0   \n",
       "\n",
       "                SecondPumpArriving_DeployedFromStation  \\\n",
       "IncidentNumber                                           \n",
       "235138081                                      Clapham   \n",
       "1091                                               NaN   \n",
       "2091                                               NaN   \n",
       "3091                                               NaN   \n",
       "5091                                          Holloway   \n",
       "\n",
       "               NumStationsWithPumpsAttending NumPumpsAttending  \n",
       "IncidentNumber                                                  \n",
       "235138081                                2.0               2.0  \n",
       "1091                                     NaN               NaN  \n",
       "2091                                     1.0               1.0  \n",
       "3091                                     1.0               1.0  \n",
       "5091                                     1.0               2.0  \n",
       "\n",
       "[5 rows x 26 columns]"
      ]
     },
     "execution_count": 4,
     "metadata": {},
     "output_type": "execute_result"
    }
   ],
   "source": [
    "df_data_09_11.head()"
   ]
  },
  {
   "cell_type": "code",
   "execution_count": 5,
   "metadata": {},
   "outputs": [
    {
     "data": {
      "text/html": [
       "<div>\n",
       "<style scoped>\n",
       "    .dataframe tbody tr th:only-of-type {\n",
       "        vertical-align: middle;\n",
       "    }\n",
       "\n",
       "    .dataframe tbody tr th {\n",
       "        vertical-align: top;\n",
       "    }\n",
       "\n",
       "    .dataframe thead th {\n",
       "        text-align: right;\n",
       "    }\n",
       "</style>\n",
       "<table border=\"1\" class=\"dataframe\">\n",
       "  <thead>\n",
       "    <tr style=\"text-align: right;\">\n",
       "      <th></th>\n",
       "      <th>DateOfCall</th>\n",
       "      <th>TimeOfCall</th>\n",
       "      <th>IncidentGroup</th>\n",
       "      <th>StopCodeDescription</th>\n",
       "      <th>SpecialServiceType</th>\n",
       "      <th>PropertyCategory</th>\n",
       "      <th>PropertyType</th>\n",
       "      <th>AddressQualifier</th>\n",
       "      <th>Postcode_full</th>\n",
       "      <th>Postcode_district</th>\n",
       "      <th>...</th>\n",
       "      <th>Easting_rounded</th>\n",
       "      <th>Northing_rounded</th>\n",
       "      <th>FRS</th>\n",
       "      <th>IncidentStationGround</th>\n",
       "      <th>FirstPumpArriving_AttendanceTime</th>\n",
       "      <th>FirstPumpArriving_DeployedFromStation</th>\n",
       "      <th>SecondPumpArriving_AttendanceTime</th>\n",
       "      <th>SecondPumpArriving_DeployedFromStation</th>\n",
       "      <th>NumStationsWithPumpsAttending</th>\n",
       "      <th>NumPumpsAttending</th>\n",
       "    </tr>\n",
       "    <tr>\n",
       "      <th>IncidentNumber</th>\n",
       "      <th></th>\n",
       "      <th></th>\n",
       "      <th></th>\n",
       "      <th></th>\n",
       "      <th></th>\n",
       "      <th></th>\n",
       "      <th></th>\n",
       "      <th></th>\n",
       "      <th></th>\n",
       "      <th></th>\n",
       "      <th></th>\n",
       "      <th></th>\n",
       "      <th></th>\n",
       "      <th></th>\n",
       "      <th></th>\n",
       "      <th></th>\n",
       "      <th></th>\n",
       "      <th></th>\n",
       "      <th></th>\n",
       "      <th></th>\n",
       "      <th></th>\n",
       "    </tr>\n",
       "  </thead>\n",
       "  <tbody>\n",
       "    <tr>\n",
       "      <th>1121</th>\n",
       "      <td>01-Jan-12</td>\n",
       "      <td>00:00:37</td>\n",
       "      <td>False Alarm</td>\n",
       "      <td>False alarm - Good intent</td>\n",
       "      <td>NaN</td>\n",
       "      <td>Dwelling</td>\n",
       "      <td>House - single occupancy</td>\n",
       "      <td>Correct incident address</td>\n",
       "      <td>NaN</td>\n",
       "      <td>UB3</td>\n",
       "      <td>...</td>\n",
       "      <td>510350</td>\n",
       "      <td>179950</td>\n",
       "      <td>London</td>\n",
       "      <td>Hayes</td>\n",
       "      <td>257.0</td>\n",
       "      <td>Hayes</td>\n",
       "      <td>302.0</td>\n",
       "      <td>Hayes</td>\n",
       "      <td>1.0</td>\n",
       "      <td>2.0</td>\n",
       "    </tr>\n",
       "    <tr>\n",
       "      <th>2121</th>\n",
       "      <td>01-Jan-12</td>\n",
       "      <td>00:00:58</td>\n",
       "      <td>Special Service</td>\n",
       "      <td>Special Service</td>\n",
       "      <td>RTC</td>\n",
       "      <td>Road Vehicle</td>\n",
       "      <td>Multiple Vehicles</td>\n",
       "      <td>Nearby address - no building in street</td>\n",
       "      <td>SE3 7DY</td>\n",
       "      <td>SE3</td>\n",
       "      <td>...</td>\n",
       "      <td>540350</td>\n",
       "      <td>178050</td>\n",
       "      <td>London</td>\n",
       "      <td>East Greenwich</td>\n",
       "      <td>522.0</td>\n",
       "      <td>East Greenwich</td>\n",
       "      <td>NaN</td>\n",
       "      <td>NaN</td>\n",
       "      <td>3.0</td>\n",
       "      <td>3.0</td>\n",
       "    </tr>\n",
       "    <tr>\n",
       "      <th>5121</th>\n",
       "      <td>01-Jan-12</td>\n",
       "      <td>00:07:08</td>\n",
       "      <td>False Alarm</td>\n",
       "      <td>AFA</td>\n",
       "      <td>NaN</td>\n",
       "      <td>Non Residential</td>\n",
       "      <td>Sports/Social club</td>\n",
       "      <td>Correct incident address</td>\n",
       "      <td>SW6 2JR</td>\n",
       "      <td>SW6</td>\n",
       "      <td>...</td>\n",
       "      <td>525650</td>\n",
       "      <td>177250</td>\n",
       "      <td>London</td>\n",
       "      <td>Fulham</td>\n",
       "      <td>227.0</td>\n",
       "      <td>Fulham</td>\n",
       "      <td>NaN</td>\n",
       "      <td>NaN</td>\n",
       "      <td>1.0</td>\n",
       "      <td>1.0</td>\n",
       "    </tr>\n",
       "    <tr>\n",
       "      <th>6121</th>\n",
       "      <td>01-Jan-12</td>\n",
       "      <td>00:08:48</td>\n",
       "      <td>Fire</td>\n",
       "      <td>Primary Fire</td>\n",
       "      <td>NaN</td>\n",
       "      <td>Dwelling</td>\n",
       "      <td>Unlicensed House in Multiple Occupation - 3 or...</td>\n",
       "      <td>On land associated with building</td>\n",
       "      <td>NaN</td>\n",
       "      <td>E6</td>\n",
       "      <td>...</td>\n",
       "      <td>541550</td>\n",
       "      <td>183250</td>\n",
       "      <td>London</td>\n",
       "      <td>East Ham</td>\n",
       "      <td>252.0</td>\n",
       "      <td>East Ham</td>\n",
       "      <td>NaN</td>\n",
       "      <td>NaN</td>\n",
       "      <td>2.0</td>\n",
       "      <td>2.0</td>\n",
       "    </tr>\n",
       "    <tr>\n",
       "      <th>9121</th>\n",
       "      <td>01-Jan-12</td>\n",
       "      <td>00:10:44</td>\n",
       "      <td>False Alarm</td>\n",
       "      <td>AFA</td>\n",
       "      <td>NaN</td>\n",
       "      <td>Dwelling</td>\n",
       "      <td>Purpose Built Flats/Maisonettes - 10 or more s...</td>\n",
       "      <td>Within same building</td>\n",
       "      <td>NaN</td>\n",
       "      <td>SE13</td>\n",
       "      <td>...</td>\n",
       "      <td>537950</td>\n",
       "      <td>174650</td>\n",
       "      <td>London</td>\n",
       "      <td>Lewisham</td>\n",
       "      <td>172.0</td>\n",
       "      <td>Lewisham</td>\n",
       "      <td>357.0</td>\n",
       "      <td>Lee Green</td>\n",
       "      <td>2.0</td>\n",
       "      <td>2.0</td>\n",
       "    </tr>\n",
       "  </tbody>\n",
       "</table>\n",
       "<p>5 rows × 26 columns</p>\n",
       "</div>"
      ],
      "text/plain": [
       "               DateOfCall TimeOfCall    IncidentGroup  \\\n",
       "IncidentNumber                                          \n",
       "1121            01-Jan-12   00:00:37      False Alarm   \n",
       "2121            01-Jan-12   00:00:58  Special Service   \n",
       "5121            01-Jan-12   00:07:08      False Alarm   \n",
       "6121            01-Jan-12   00:08:48             Fire   \n",
       "9121            01-Jan-12   00:10:44      False Alarm   \n",
       "\n",
       "                      StopCodeDescription SpecialServiceType PropertyCategory  \\\n",
       "IncidentNumber                                                                  \n",
       "1121            False alarm - Good intent                NaN         Dwelling   \n",
       "2121                      Special Service                RTC     Road Vehicle   \n",
       "5121                                  AFA                NaN  Non Residential   \n",
       "6121                         Primary Fire                NaN         Dwelling   \n",
       "9121                                  AFA                NaN         Dwelling   \n",
       "\n",
       "                                                     PropertyType  \\\n",
       "IncidentNumber                                                      \n",
       "1121                                    House - single occupancy    \n",
       "2121                                           Multiple Vehicles    \n",
       "5121                                          Sports/Social club    \n",
       "6121            Unlicensed House in Multiple Occupation - 3 or...   \n",
       "9121            Purpose Built Flats/Maisonettes - 10 or more s...   \n",
       "\n",
       "                                      AddressQualifier Postcode_full  \\\n",
       "IncidentNumber                                                         \n",
       "1121                          Correct incident address           NaN   \n",
       "2121            Nearby address - no building in street       SE3 7DY   \n",
       "5121                          Correct incident address       SW6 2JR   \n",
       "6121                  On land associated with building           NaN   \n",
       "9121                              Within same building           NaN   \n",
       "\n",
       "               Postcode_district        ...        Easting_rounded  \\\n",
       "IncidentNumber                          ...                          \n",
       "1121                         UB3        ...                 510350   \n",
       "2121                         SE3        ...                 540350   \n",
       "5121                         SW6        ...                 525650   \n",
       "6121                          E6        ...                 541550   \n",
       "9121                        SE13        ...                 537950   \n",
       "\n",
       "               Northing_rounded     FRS IncidentStationGround  \\\n",
       "IncidentNumber                                                  \n",
       "1121                     179950  London                 Hayes   \n",
       "2121                     178050  London        East Greenwich   \n",
       "5121                     177250  London                Fulham   \n",
       "6121                     183250  London              East Ham   \n",
       "9121                     174650  London              Lewisham   \n",
       "\n",
       "                FirstPumpArriving_AttendanceTime  \\\n",
       "IncidentNumber                                     \n",
       "1121                                       257.0   \n",
       "2121                                       522.0   \n",
       "5121                                       227.0   \n",
       "6121                                       252.0   \n",
       "9121                                       172.0   \n",
       "\n",
       "                FirstPumpArriving_DeployedFromStation  \\\n",
       "IncidentNumber                                          \n",
       "1121                                            Hayes   \n",
       "2121                                   East Greenwich   \n",
       "5121                                           Fulham   \n",
       "6121                                         East Ham   \n",
       "9121                                         Lewisham   \n",
       "\n",
       "                SecondPumpArriving_AttendanceTime  \\\n",
       "IncidentNumber                                      \n",
       "1121                                        302.0   \n",
       "2121                                          NaN   \n",
       "5121                                          NaN   \n",
       "6121                                          NaN   \n",
       "9121                                        357.0   \n",
       "\n",
       "                SecondPumpArriving_DeployedFromStation  \\\n",
       "IncidentNumber                                           \n",
       "1121                                             Hayes   \n",
       "2121                                               NaN   \n",
       "5121                                               NaN   \n",
       "6121                                               NaN   \n",
       "9121                                         Lee Green   \n",
       "\n",
       "               NumStationsWithPumpsAttending NumPumpsAttending  \n",
       "IncidentNumber                                                  \n",
       "1121                                     1.0               2.0  \n",
       "2121                                     3.0               3.0  \n",
       "5121                                     1.0               1.0  \n",
       "6121                                     2.0               2.0  \n",
       "9121                                     2.0               2.0  \n",
       "\n",
       "[5 rows x 26 columns]"
      ]
     },
     "execution_count": 5,
     "metadata": {},
     "output_type": "execute_result"
    }
   ],
   "source": [
    "df_data_12_15.head()"
   ]
  },
  {
   "cell_type": "code",
   "execution_count": 6,
   "metadata": {},
   "outputs": [
    {
     "name": "stdout",
     "output_type": "stream",
     "text": [
      "True\n"
     ]
    }
   ],
   "source": [
    "# Check both data sets have matching columns\n",
    "matching_variables = list(df_data_09_11) == list(df_data_12_15)\n",
    "print(matching_variables)"
   ]
  },
  {
   "cell_type": "code",
   "execution_count": 7,
   "metadata": {},
   "outputs": [],
   "source": [
    "# Concatenate them into a single dataframe\n",
    "df_incident_data = pd.concat([df_data_09_11, df_data_12_15])"
   ]
  },
  {
   "cell_type": "code",
   "execution_count": 8,
   "metadata": {},
   "outputs": [
    {
     "data": {
      "text/plain": [
       "(750468, 26)"
      ]
     },
     "execution_count": 8,
     "metadata": {},
     "output_type": "execute_result"
    }
   ],
   "source": [
    "df_incident_data.shape"
   ]
  },
  {
   "cell_type": "code",
   "execution_count": 9,
   "metadata": {},
   "outputs": [
    {
     "data": {
      "text/plain": [
       "array(['Special Service', 'Fire', 'False Alarm'], dtype=object)"
      ]
     },
     "execution_count": 9,
     "metadata": {},
     "output_type": "execute_result"
    }
   ],
   "source": [
    "# What are the possible calls that the fire service get?\n",
    "df_incident_data.IncidentGroup.unique()"
   ]
  },
  {
   "cell_type": "code",
   "execution_count": 10,
   "metadata": {},
   "outputs": [],
   "source": [
    "# From http://www.westyorksfire.gov.uk/about-us/what-we-do/special-service-calls/ \n",
    "# Special Service doesn't relate to Fire\n",
    "# Therefore will only look at data where IncidentGroup=Fire\n",
    "\n",
    "df_fires = df_incident_data[(df_incident_data.IncidentGroup=='Fire')]"
   ]
  },
  {
   "cell_type": "code",
   "execution_count": 11,
   "metadata": {},
   "outputs": [
    {
     "data": {
      "text/plain": [
       "(161763, 26)"
      ]
     },
     "execution_count": 11,
     "metadata": {},
     "output_type": "execute_result"
    }
   ],
   "source": [
    "df_fires.shape"
   ]
  },
  {
   "cell_type": "code",
   "execution_count": 12,
   "metadata": {},
   "outputs": [
    {
     "data": {
      "text/plain": [
       "array(['Outdoor', 'Outdoor Structure', 'Dwelling', 'Non Residential',\n",
       "       'Other Residential', 'Road Vehicle', 'Boat', 'Rail Vehicle',\n",
       "       'Aircraft'], dtype=object)"
      ]
     },
     "execution_count": 12,
     "metadata": {},
     "output_type": "execute_result"
    }
   ],
   "source": [
    "# What are the different types of property category?\n",
    "df_fires.PropertyCategory.unique()"
   ]
  },
  {
   "cell_type": "code",
   "execution_count": 13,
   "metadata": {},
   "outputs": [],
   "source": [
    "# Assumption: Only interested in buildings."
   ]
  },
  {
   "cell_type": "code",
   "execution_count": 14,
   "metadata": {},
   "outputs": [],
   "source": [
    "valid_properties = ['Dwelling', 'Non Residential',\n",
    "       'Other Residential']"
   ]
  },
  {
   "cell_type": "code",
   "execution_count": 15,
   "metadata": {},
   "outputs": [],
   "source": [
    "# Filter for valid properties\n",
    "df_fires_properties = df_fires[df_fires['PropertyCategory'].isin(valid_properties)]"
   ]
  },
  {
   "cell_type": "code",
   "execution_count": 16,
   "metadata": {},
   "outputs": [
    {
     "data": {
      "text/plain": [
       "(62647, 26)"
      ]
     },
     "execution_count": 16,
     "metadata": {},
     "output_type": "execute_result"
    }
   ],
   "source": [
    "df_fires_properties.shape"
   ]
  },
  {
   "cell_type": "code",
   "execution_count": 17,
   "metadata": {},
   "outputs": [],
   "source": [
    "# More information about properties within PropertyType & AddressQualifier"
   ]
  },
  {
   "cell_type": "code",
   "execution_count": 18,
   "metadata": {},
   "outputs": [
    {
     "data": {
      "text/plain": [
       "array(['House - single occupancy ', 'Laundrette ',\n",
       "       'Purpose Built Flats/Maisonettes - Up to 3 storeys ',\n",
       "       'Converted Flat/Maisonette - Up to 2 storeys ', 'Nursing/Care Home',\n",
       "       'Purpose Built Flats/Maisonettes - 4 to 9 storeys ',\n",
       "       'Multi-Storey car park', 'Other building/use not known ',\n",
       "       'Retirement/Old Persons Home',\n",
       "       'Purpose Built Flats/Maisonettes - 10 or more storeys ',\n",
       "       'Train station - platform (below ground) ',\n",
       "       'Self contained Sheltered Housing ', 'Prison ',\n",
       "       'Bank/Building Society ',\n",
       "       'Boarding House/B&B for homeless/asylum seekers ',\n",
       "       'Bungalow - single occupancy ', 'Train station - elsewhere ',\n",
       "       'Takeaway, fast food ', 'Caravan/Mobile home (permanent dwelling)',\n",
       "       'Single shop ', 'Restaurant/cafe',\n",
       "       'Licensed House in Multiple Occupation - 3 or more storeys ',\n",
       "       'Church/Chapel ',\n",
       "       'Unlicensed House in Multiple Occupation - 3 or more storeys ',\n",
       "       'Converted Flat/Maisonettes - 3 or more storeys',\n",
       "       'Other bulk storage', 'Pub/wine bar/bar ', 'Temple ',\n",
       "       'Sheltered Housing : not self contained ', 'Private Garden Shed ',\n",
       "       'Other Dwelling ', 'Student Hall of Residence ',\n",
       "       'Hostel (e.g. for homeless people) ', 'Synagogue ', 'Hospital ',\n",
       "       'Houseboat (permanent dwelling) ', 'Furniture warehouse ',\n",
       "       'Engineering manufacturing plant', 'Club/night club ', 'Factory ',\n",
       "       'Pre School/nursery ', 'Warehouse ', 'Sports/Social club ',\n",
       "       'House in Multiple Occupation - Up to 2 storeys (not known if licensed) ',\n",
       "       'Purpose built office ', 'Converted office ',\n",
       "       'House in Multiple Occupation - 3 or more storeys (not known if licensed)',\n",
       "       'Tenement Building ', 'Other office/call centre type building',\n",
       "       'College/University ', 'Central Government Office', 'Casino ',\n",
       "       'Hotel/motel ', 'Other retail  ', 'Fire station ',\n",
       "       'Vehicle Repair Workshop', 'Other education establishment',\n",
       "       'Post office (within other shop/premises) ', 'Underground car park',\n",
       "       'Large supermarket ', 'Private garage ', 'Recycling plant',\n",
       "       'Temporary office (eg portacabin) ', 'TV/film/music/art studio ',\n",
       "       'Unlicensed House in Multiple Occupation - Up to 2 storeys ',\n",
       "       'Airport - terminal ', 'Other Residential Home ',\n",
       "       'Towing caravan/Camper van on site', 'Gym ',\n",
       "       'Community centre/Hall ', 'Other car park structure',\n",
       "       'Hairdresser ', 'Theatre ', 'Swimming Pool ',\n",
       "       'Sports pavilion/shower block/changing facility ',\n",
       "       'Airport building (not terminal or hangar) ', 'Call Centre ',\n",
       "       'Electricity power station ', 'Department Store ', 'Mill ',\n",
       "       'Train station - concourse ', 'Other cultural venue ',\n",
       "       'Licensed House in Multiple Occupation - Up to 2 storeys ',\n",
       "       'Other private non-residential building ', 'Secondary school',\n",
       "       'Estate Agent ', \"Nurses'/Doctors' accommodation \",\n",
       "       'Leisure Centre ',\n",
       "       'Other medical establishment (including surgery) ',\n",
       "       'Local Government Office', 'Oil refinery ', 'Shopping Centre ',\n",
       "       'Other transport building ', 'Infant/Primary school', 'Town Hall ',\n",
       "       \"Children's Home\", 'Other industrial manufacturing facility',\n",
       "       'Electrical warehouse ', 'Printing works', 'Young offenders unit ',\n",
       "       'Youth hostel ', 'Other industrial processing plant', 'Cinema ',\n",
       "       'Other public building ', 'Mine or quarry building above ground',\n",
       "       'Indoor Market ', 'Law Courts ', 'Bus/coach station/garage ',\n",
       "       'Police station ', 'Museum ', 'Petrol station ',\n",
       "       'Private greenhouse ', 'Railway building - other', 'Water works ',\n",
       "       'Manufacturing assembly plant', 'Other entertainment venue ',\n",
       "       'Exhibition Centre ', 'DIY Warehouse ', 'Bulk waste storage',\n",
       "       'Football stadium ', 'Private Summer house ',\n",
       "       'Other retail warehouse ', 'Boarding House/B&B other ',\n",
       "       'Other public utility works', 'Art Gallery ', 'Travel Agent ',\n",
       "       'Other indoor sporting venue ', 'Military/barracks ',\n",
       "       'Vehicle sales building', 'Other Religious Use Building',\n",
       "       'Other outdoor sporting venue ', 'Boarding School accommodation ',\n",
       "       'Ambulance station ', 'Bingo Hall ', 'Library ', 'Public toilets ',\n",
       "       'Post office (purpose built) ', 'Mosque ', 'Ice rink ',\n",
       "       'Indoor stadium ', 'Rugby Stadium ',\n",
       "       'Bulk hazardous materials storage',\n",
       "       'Train station - platform (at ground level or elevated) ',\n",
       "       'Intensive Farming Sheds (chickens, pigs etc) ', 'Sports Hall ',\n",
       "       'Laboratory/research Establishment ',\n",
       "       'Animal products processing plant', 'Concert Hall ', 'Barn ',\n",
       "       'Chemical plant', 'Sewage works ', 'Other agricultural building ',\n",
       "       'Airport - hangar ',\n",
       "       'Animal boarding/breeding establishment - dogs', 'Health Centre ',\n",
       "       'Other animal boarding/breeding establishment', 'Cricket ground ',\n",
       "       'Tennis Courts ', 'Monastery/convent ', 'Theme Park ', 'Cathedral ',\n",
       "       'Conference Centre ', 'Gas works ', 'Tractor Shed ', 'Docks ',\n",
       "       'Greenhouse (commercial) glass ', 'Motor racing circuit ',\n",
       "       'Nursing/Care Home/Hospice', 'Athletics Stadium ', 'Zoo ',\n",
       "       'Medical/health centre', 'Food and drink processing',\n",
       "       'Telephone exchange', 'Health spa/farm', 'Dental surgery',\n",
       "       'Doctors surgery', 'Day care/Drop in centre',\n",
       "       'Ministry of Defence office', 'Veterinary surgery', 'Bakery',\n",
       "       'Greyhound stadium ', 'Royal Palace (part not open to public)',\n",
       "       'Other holiday residence (cottage, flat, chalet) ',\n",
       "       'Golf clubhouse', 'Silo ', 'Castle (part not open to public)',\n",
       "       'Bulk oil storage', 'Stately Home (part not open to public)'], dtype=object)"
      ]
     },
     "execution_count": 18,
     "metadata": {},
     "output_type": "execute_result"
    }
   ],
   "source": [
    "df_fires_properties.PropertyType.unique()"
   ]
  },
  {
   "cell_type": "code",
   "execution_count": 19,
   "metadata": {},
   "outputs": [
    {
     "data": {
      "text/plain": [
       "(188,)"
      ]
     },
     "execution_count": 19,
     "metadata": {},
     "output_type": "execute_result"
    }
   ],
   "source": [
    "df_fires_properties.PropertyType.unique().shape"
   ]
  },
  {
   "cell_type": "code",
   "execution_count": 20,
   "metadata": {},
   "outputs": [],
   "source": [
    "# There are 188 different types for property type, useful to give risk of fire based off property type\n",
    "# Significant number of options so would segment into broader categories, i.e \n",
    "# 'Ministry of Defence office','Police station ', 'Royal Palace (part not open to public)' etc -> 'Government_buildings'"
   ]
  },
  {
   "cell_type": "code",
   "execution_count": 21,
   "metadata": {},
   "outputs": [
    {
     "data": {
      "text/plain": [
       "array(['Correct incident address', 'Within same building',\n",
       "       'On land associated with building', 'In street close to',\n",
       "       'In street outside', 'Open land/water - nearest address to access',\n",
       "       'Nearby address - street not listed',\n",
       "       'Railway land or rolling stock',\n",
       "       'In street remote from postal address',\n",
       "       'Nearby address - no building in street',\n",
       "       'On motorway / elevated road'], dtype=object)"
      ]
     },
     "execution_count": 21,
     "metadata": {},
     "output_type": "execute_result"
    }
   ],
   "source": [
    "df_fires_properties.AddressQualifier.unique()"
   ]
  },
  {
   "cell_type": "code",
   "execution_count": 22,
   "metadata": {},
   "outputs": [],
   "source": [
    "# Some calls are not directly associated with the building but the surrounding area\n",
    "\n",
    "# Question: Does a fire on a buildings land count towards its fire insurance?\n",
    "# Assumption: All fires on a building and it's land are an important measure of fire risk"
   ]
  },
  {
   "cell_type": "code",
   "execution_count": 23,
   "metadata": {},
   "outputs": [],
   "source": [
    "valid_address_qualifiers = ['Correct incident address', 'Within same building',\n",
    "       'On land associated with building']"
   ]
  },
  {
   "cell_type": "code",
   "execution_count": 24,
   "metadata": {},
   "outputs": [],
   "source": [
    "# Filter for only fires related to the property\n",
    "df_fires_on_properties = df_fires_properties[df_fires_properties['AddressQualifier'].isin(valid_address_qualifiers)]"
   ]
  },
  {
   "cell_type": "code",
   "execution_count": 25,
   "metadata": {},
   "outputs": [],
   "source": [
    "# Could window by year, but should use all the data as adds more value, average to get yearly risk"
   ]
  },
  {
   "cell_type": "code",
   "execution_count": 26,
   "metadata": {},
   "outputs": [],
   "source": [
    "in_2011 = \"-11\"\n",
    "in_2012 = \"-12\"\n",
    "in_2013 = \"-13\"\n",
    "in_2014 = \"-14\"\n",
    "in_2015 = \"-15\"\n",
    "\n",
    "#df_fires_properties_windowed = df_fires_on_properties[df_fires_on_properties['DateOfCall'].str.endswith(in_2012)]"
   ]
  },
  {
   "cell_type": "code",
   "execution_count": 27,
   "metadata": {},
   "outputs": [],
   "source": [
    "# Calculate number of fires per postcode\n",
    "fires_per_postcode = df_fires_on_properties['Postcode_district'].value_counts()\n",
    "fires_df = pd.Series.to_frame(fires_per_postcode)"
   ]
  },
  {
   "cell_type": "code",
   "execution_count": 28,
   "metadata": {},
   "outputs": [
    {
     "data": {
      "text/html": [
       "<div>\n",
       "<style scoped>\n",
       "    .dataframe tbody tr th:only-of-type {\n",
       "        vertical-align: middle;\n",
       "    }\n",
       "\n",
       "    .dataframe tbody tr th {\n",
       "        vertical-align: top;\n",
       "    }\n",
       "\n",
       "    .dataframe thead th {\n",
       "        text-align: right;\n",
       "    }\n",
       "</style>\n",
       "<table border=\"1\" class=\"dataframe\">\n",
       "  <thead>\n",
       "    <tr style=\"text-align: right;\">\n",
       "      <th></th>\n",
       "      <th>Postcode_district</th>\n",
       "    </tr>\n",
       "  </thead>\n",
       "  <tbody>\n",
       "    <tr>\n",
       "      <th>SE1</th>\n",
       "      <td>820</td>\n",
       "    </tr>\n",
       "    <tr>\n",
       "      <th>NW10</th>\n",
       "      <td>799</td>\n",
       "    </tr>\n",
       "    <tr>\n",
       "      <th>N1</th>\n",
       "      <td>768</td>\n",
       "    </tr>\n",
       "    <tr>\n",
       "      <th>E1</th>\n",
       "      <td>725</td>\n",
       "    </tr>\n",
       "    <tr>\n",
       "      <th>NW1</th>\n",
       "      <td>711</td>\n",
       "    </tr>\n",
       "    <tr>\n",
       "      <th>SE18</th>\n",
       "      <td>706</td>\n",
       "    </tr>\n",
       "    <tr>\n",
       "      <th>E17</th>\n",
       "      <td>686</td>\n",
       "    </tr>\n",
       "    <tr>\n",
       "      <th>E14</th>\n",
       "      <td>682</td>\n",
       "    </tr>\n",
       "    <tr>\n",
       "      <th>SW11</th>\n",
       "      <td>634</td>\n",
       "    </tr>\n",
       "  </tbody>\n",
       "</table>\n",
       "</div>"
      ],
      "text/plain": [
       "      Postcode_district\n",
       "SE1                 820\n",
       "NW10                799\n",
       "N1                  768\n",
       "E1                  725\n",
       "NW1                 711\n",
       "SE18                706\n",
       "E17                 686\n",
       "E14                 682\n",
       "SW11                634"
      ]
     },
     "execution_count": 28,
     "metadata": {},
     "output_type": "execute_result"
    }
   ],
   "source": [
    "# What are the 10 postcodes with the most significant numbers of fires?\n",
    "fires_df[1:10]"
   ]
  },
  {
   "cell_type": "code",
   "execution_count": 29,
   "metadata": {},
   "outputs": [],
   "source": [
    "# Plot the count of fires per area"
   ]
  },
  {
   "cell_type": "code",
   "execution_count": 30,
   "metadata": {},
   "outputs": [
    {
     "data": {
      "text/plain": [
       "[Text(0,0.5,'Number of fires'), Text(0.5,0,'Postcode districts')]"
      ]
     },
     "execution_count": 30,
     "metadata": {},
     "output_type": "execute_result"
    },
    {
     "data": {
      "image/png": "[encoded data removed]",
      "text/plain": [
       "<matplotlib.figure.Figure at 0x107e3e9e8>"
      ]
     },
     "metadata": {},
     "output_type": "display_data"
    }
   ],
   "source": [
    "ax = sns.barplot(x=\"index\", y=\"Postcode_district\", data=fires_df.reset_index())\n",
    "ax.set(xlabel=\"Postcode districts\", ylabel='Number of fires')\n",
    "#plt.xticks(rotation=45)"
   ]
  },
  {
   "cell_type": "code",
   "execution_count": 31,
   "metadata": {},
   "outputs": [],
   "source": [
    "# Not much value in the graph, Chart is useful for knowing the most at risk areas, \n",
    "# will use a heatmap to show visually for the different areas, gives more context for pattersn on a geographical basis"
   ]
  },
  {
   "cell_type": "code",
   "execution_count": 32,
   "metadata": {},
   "outputs": [],
   "source": [
    "# Save to csv\n",
    "fires_df.to_csv(fires_by_postcode_output_file_path, header=False)"
   ]
  },
  {
   "cell_type": "code",
   "execution_count": 33,
   "metadata": {},
   "outputs": [
    {
     "ename": "TypeError",
     "evalue": "iteration over a 0-d array",
     "output_type": "error",
     "traceback": [
      "\u001b[0;31m---------------------------------------------------------------------------\u001b[0m",
      "\u001b[0;31mTypeError\u001b[0m                                 Traceback (most recent call last)",
      "\u001b[0;32m<ipython-input-33-239cf6d86684>\u001b[0m in \u001b[0;36m<module>\u001b[0;34m()\u001b[0m\n\u001b[1;32m      3\u001b[0m mapper.label_geojson(geojson_file_path=unlabelled_geojson_file_path, \n\u001b[1;32m      4\u001b[0m                      \u001b[0mlabels_file_path\u001b[0m\u001b[0;34m=\u001b[0m\u001b[0mfires_by_postcode_output_file_path\u001b[0m\u001b[0;34m,\u001b[0m\u001b[0;34m\u001b[0m\u001b[0m\n\u001b[0;32m----> 5\u001b[0;31m                      region_identifier='Name')\n\u001b[0m\u001b[1;32m      6\u001b[0m \u001b[0;34m\u001b[0m\u001b[0m\n\u001b[1;32m      7\u001b[0m \u001b[0mmapper\u001b[0m\u001b[0;34m.\u001b[0m\u001b[0mprint_geo_json\u001b[0m\u001b[0;34m(\u001b[0m\u001b[0mlabelled_geojson_file_path\u001b[0m\u001b[0;34m)\u001b[0m\u001b[0;34m\u001b[0m\u001b[0m\n",
      "\u001b[0;32m~/development/datascience/axa_challenge/geojson_mapper/geojson_mapper.py\u001b[0m in \u001b[0;36mlabel_geojson\u001b[0;34m(self, geojson_file_path, labels_file_path, region_identifier)\u001b[0m\n\u001b[1;32m     57\u001b[0m         \u001b[0;32mfor\u001b[0m \u001b[0mregion\u001b[0m \u001b[0;32min\u001b[0m \u001b[0mself\u001b[0m\u001b[0;34m.\u001b[0m\u001b[0mgeojson\u001b[0m\u001b[0;34m.\u001b[0m\u001b[0mfeatures\u001b[0m\u001b[0;34m:\u001b[0m\u001b[0;34m\u001b[0m\u001b[0m\n\u001b[1;32m     58\u001b[0m             \u001b[0mmetadata_value\u001b[0m \u001b[0;34m=\u001b[0m \u001b[0mself\u001b[0m\u001b[0;34m.\u001b[0m\u001b[0m_get_value_for_region\u001b[0m\u001b[0;34m(\u001b[0m\u001b[0mmetadata_values\u001b[0m\u001b[0;34m,\u001b[0m \u001b[0mregion\u001b[0m\u001b[0;34m,\u001b[0m \u001b[0mregion_identifier\u001b[0m\u001b[0;34m)\u001b[0m\u001b[0;34m\u001b[0m\u001b[0m\n\u001b[0;32m---> 59\u001b[0;31m             \u001b[0mself\u001b[0m\u001b[0;34m.\u001b[0m\u001b[0m_update_region_colour_and_label\u001b[0m\u001b[0;34m(\u001b[0m\u001b[0mregion\u001b[0m\u001b[0;34m,\u001b[0m \u001b[0mmetadata_value\u001b[0m\u001b[0;34m)\u001b[0m\u001b[0;34m\u001b[0m\u001b[0m\n\u001b[0m\u001b[1;32m     60\u001b[0m \u001b[0;34m\u001b[0m\u001b[0m\n\u001b[1;32m     61\u001b[0m     \u001b[0;32mdef\u001b[0m \u001b[0m_update_region_colour_and_label\u001b[0m\u001b[0;34m(\u001b[0m\u001b[0mself\u001b[0m\u001b[0;34m,\u001b[0m \u001b[0mfeature\u001b[0m\u001b[0;34m,\u001b[0m \u001b[0mmetadata_value\u001b[0m\u001b[0;34m)\u001b[0m\u001b[0;34m:\u001b[0m\u001b[0;34m\u001b[0m\u001b[0m\n",
      "\u001b[0;32m~/development/datascience/axa_challenge/geojson_mapper/geojson_mapper.py\u001b[0m in \u001b[0;36m_update_region_colour_and_label\u001b[0;34m(self, feature, metadata_value)\u001b[0m\n\u001b[1;32m     60\u001b[0m \u001b[0;34m\u001b[0m\u001b[0m\n\u001b[1;32m     61\u001b[0m     \u001b[0;32mdef\u001b[0m \u001b[0m_update_region_colour_and_label\u001b[0m\u001b[0;34m(\u001b[0m\u001b[0mself\u001b[0m\u001b[0;34m,\u001b[0m \u001b[0mfeature\u001b[0m\u001b[0;34m,\u001b[0m \u001b[0mmetadata_value\u001b[0m\u001b[0;34m)\u001b[0m\u001b[0;34m:\u001b[0m\u001b[0;34m\u001b[0m\u001b[0m\n\u001b[0;32m---> 62\u001b[0;31m         \u001b[0mfeature\u001b[0m\u001b[0;34m.\u001b[0m\u001b[0mproperties\u001b[0m\u001b[0;34m[\u001b[0m\u001b[0;34m\"fill\"\u001b[0m\u001b[0;34m]\u001b[0m \u001b[0;34m=\u001b[0m \u001b[0mself\u001b[0m\u001b[0;34m.\u001b[0m\u001b[0mrgb_colour_mapper\u001b[0m\u001b[0;34m.\u001b[0m\u001b[0mgenerate_hex_colour\u001b[0m\u001b[0;34m(\u001b[0m\u001b[0mmetadata_value\u001b[0m\u001b[0;34m)\u001b[0m\u001b[0;34m\u001b[0m\u001b[0m\n\u001b[0m\u001b[1;32m     63\u001b[0m         \u001b[0mfeature\u001b[0m\u001b[0;34m.\u001b[0m\u001b[0mproperties\u001b[0m\u001b[0;34m[\u001b[0m\u001b[0mself\u001b[0m\u001b[0;34m.\u001b[0m\u001b[0mlabel_name\u001b[0m\u001b[0;34m]\u001b[0m \u001b[0;34m=\u001b[0m \u001b[0mmetadata_value\u001b[0m\u001b[0;34m\u001b[0m\u001b[0m\n\u001b[1;32m     64\u001b[0m \u001b[0;34m\u001b[0m\u001b[0m\n",
      "\u001b[0;32m~/development/datascience/axa_challenge/geojson_mapper/geojson_mapper.py\u001b[0m in \u001b[0;36mgenerate_hex_colour\u001b[0;34m(self, value)\u001b[0m\n\u001b[1;32m     13\u001b[0m \u001b[0;34m\u001b[0m\u001b[0m\n\u001b[1;32m     14\u001b[0m     \u001b[0;32mdef\u001b[0m \u001b[0mgenerate_hex_colour\u001b[0m\u001b[0;34m(\u001b[0m\u001b[0mself\u001b[0m\u001b[0;34m,\u001b[0m \u001b[0mvalue\u001b[0m\u001b[0;34m)\u001b[0m\u001b[0;34m:\u001b[0m\u001b[0;34m\u001b[0m\u001b[0m\n\u001b[0;32m---> 15\u001b[0;31m         \u001b[0mrgb\u001b[0m \u001b[0;34m=\u001b[0m \u001b[0mself\u001b[0m\u001b[0;34m.\u001b[0m\u001b[0mmapper\u001b[0m\u001b[0;34m.\u001b[0m\u001b[0mto_rgba\u001b[0m\u001b[0;34m(\u001b[0m\u001b[0mvalue\u001b[0m\u001b[0;34m)\u001b[0m\u001b[0;34m[\u001b[0m\u001b[0;34m:\u001b[0m\u001b[0;36m3\u001b[0m\u001b[0;34m]\u001b[0m\u001b[0;34m\u001b[0m\u001b[0m\n\u001b[0m\u001b[1;32m     16\u001b[0m         \u001b[0;32mreturn\u001b[0m \u001b[0;34m'#%02x%02x%02x'\u001b[0m \u001b[0;34m%\u001b[0m \u001b[0mtuple\u001b[0m\u001b[0;34m(\u001b[0m\u001b[0;34m[\u001b[0m\u001b[0mint\u001b[0m\u001b[0;34m(\u001b[0m\u001b[0;36m255\u001b[0m \u001b[0;34m*\u001b[0m \u001b[0mcolour\u001b[0m\u001b[0;34m)\u001b[0m \u001b[0;32mfor\u001b[0m \u001b[0mcolour\u001b[0m \u001b[0;32min\u001b[0m \u001b[0mrgb\u001b[0m\u001b[0;34m]\u001b[0m\u001b[0;34m)\u001b[0m\u001b[0;34m\u001b[0m\u001b[0m\n\u001b[1;32m     17\u001b[0m \u001b[0;34m\u001b[0m\u001b[0m\n",
      "\u001b[0;32m/usr/local/lib/python3.6/site-packages/matplotlib/cm.py\u001b[0m in \u001b[0;36mto_rgba\u001b[0;34m(self, x, alpha, bytes, norm)\u001b[0m\n\u001b[1;32m    273\u001b[0m         \u001b[0mx\u001b[0m \u001b[0;34m=\u001b[0m \u001b[0mma\u001b[0m\u001b[0;34m.\u001b[0m\u001b[0masarray\u001b[0m\u001b[0;34m(\u001b[0m\u001b[0mx\u001b[0m\u001b[0;34m)\u001b[0m\u001b[0;34m\u001b[0m\u001b[0m\n\u001b[1;32m    274\u001b[0m         \u001b[0;32mif\u001b[0m \u001b[0mnorm\u001b[0m\u001b[0;34m:\u001b[0m\u001b[0;34m\u001b[0m\u001b[0m\n\u001b[0;32m--> 275\u001b[0;31m             \u001b[0mx\u001b[0m \u001b[0;34m=\u001b[0m \u001b[0mself\u001b[0m\u001b[0;34m.\u001b[0m\u001b[0mnorm\u001b[0m\u001b[0;34m(\u001b[0m\u001b[0mx\u001b[0m\u001b[0;34m)\u001b[0m\u001b[0;34m\u001b[0m\u001b[0m\n\u001b[0m\u001b[1;32m    276\u001b[0m         \u001b[0mrgba\u001b[0m \u001b[0;34m=\u001b[0m \u001b[0mself\u001b[0m\u001b[0;34m.\u001b[0m\u001b[0mcmap\u001b[0m\u001b[0;34m(\u001b[0m\u001b[0mx\u001b[0m\u001b[0;34m,\u001b[0m \u001b[0malpha\u001b[0m\u001b[0;34m=\u001b[0m\u001b[0malpha\u001b[0m\u001b[0;34m,\u001b[0m \u001b[0mbytes\u001b[0m\u001b[0;34m=\u001b[0m\u001b[0mbytes\u001b[0m\u001b[0;34m)\u001b[0m\u001b[0;34m\u001b[0m\u001b[0m\n\u001b[1;32m    277\u001b[0m         \u001b[0;32mreturn\u001b[0m \u001b[0mrgba\u001b[0m\u001b[0;34m\u001b[0m\u001b[0m\n",
      "\u001b[0;32m/usr/local/lib/python3.6/site-packages/matplotlib/colors.py\u001b[0m in \u001b[0;36m__call__\u001b[0;34m(self, value, clip)\u001b[0m\n\u001b[1;32m    921\u001b[0m         \u001b[0mself\u001b[0m\u001b[0;34m.\u001b[0m\u001b[0mautoscale_None\u001b[0m\u001b[0;34m(\u001b[0m\u001b[0mresult\u001b[0m\u001b[0;34m)\u001b[0m\u001b[0;34m\u001b[0m\u001b[0m\n\u001b[1;32m    922\u001b[0m         \u001b[0;31m# Convert at least to float, without losing precision.\u001b[0m\u001b[0;34m\u001b[0m\u001b[0;34m\u001b[0m\u001b[0m\n\u001b[0;32m--> 923\u001b[0;31m         \u001b[0;34m(\u001b[0m\u001b[0mvmin\u001b[0m\u001b[0;34m,\u001b[0m\u001b[0;34m)\u001b[0m\u001b[0;34m,\u001b[0m \u001b[0m_\u001b[0m \u001b[0;34m=\u001b[0m \u001b[0mself\u001b[0m\u001b[0;34m.\u001b[0m\u001b[0mprocess_value\u001b[0m\u001b[0;34m(\u001b[0m\u001b[0mself\u001b[0m\u001b[0;34m.\u001b[0m\u001b[0mvmin\u001b[0m\u001b[0;34m)\u001b[0m\u001b[0;34m\u001b[0m\u001b[0m\n\u001b[0m\u001b[1;32m    924\u001b[0m         \u001b[0;34m(\u001b[0m\u001b[0mvmax\u001b[0m\u001b[0;34m,\u001b[0m\u001b[0;34m)\u001b[0m\u001b[0;34m,\u001b[0m \u001b[0m_\u001b[0m \u001b[0;34m=\u001b[0m \u001b[0mself\u001b[0m\u001b[0;34m.\u001b[0m\u001b[0mprocess_value\u001b[0m\u001b[0;34m(\u001b[0m\u001b[0mself\u001b[0m\u001b[0;34m.\u001b[0m\u001b[0mvmax\u001b[0m\u001b[0;34m)\u001b[0m\u001b[0;34m\u001b[0m\u001b[0m\n\u001b[1;32m    925\u001b[0m         \u001b[0;32mif\u001b[0m \u001b[0mvmin\u001b[0m \u001b[0;34m==\u001b[0m \u001b[0mvmax\u001b[0m\u001b[0;34m:\u001b[0m\u001b[0;34m\u001b[0m\u001b[0m\n",
      "\u001b[0;31mTypeError\u001b[0m: iteration over a 0-d array"
     ]
    }
   ],
   "source": [
    "# Create a heatmap visualisation of the number of fires per postcode\n",
    "mapper = GeoJsonMapper(label_name=\"Fires\")\n",
    "mapper.label_geojson(geojson_file_path=unlabelled_geojson_file_path, \n",
    "                     labels_file_path=fires_by_postcode_output_file_path, \n",
    "                     region_identifier='Name')\n",
    "\n",
    "mapper.print_geo_json(labelled_geojson_file_path)\n"
   ]
  },
  {
   "cell_type": "code",
   "execution_count": null,
   "metadata": {},
   "outputs": [],
   "source": [
    "# Number of fires per building type\n",
    "fires_per_building = df_fires_properties['PropertyType'].value_counts()\n",
    "fires_building_df = pd.Series.to_frame(fires_per_building)"
   ]
  },
  {
   "cell_type": "code",
   "execution_count": null,
   "metadata": {},
   "outputs": [],
   "source": [
    "# What are the 10 building types with the most fires?\n",
    "fires_building_df[1:10]"
   ]
  },
  {
   "cell_type": "code",
   "execution_count": null,
   "metadata": {},
   "outputs": [],
   "source": [
    "# Plot the count of fires for different building types"
   ]
  },
  {
   "cell_type": "code",
   "execution_count": null,
   "metadata": {},
   "outputs": [],
   "source": [
    "ax = sns.barplot(x=\"index\", y=\"PropertyType\", data=fires_building_df.reset_index())\n",
    "ax.set(xlabel=\"Property Types\", ylabel='Number of fires')\n",
    "#ax.set_xticklabels(rotation=45)"
   ]
  },
  {
   "cell_type": "code",
   "execution_count": null,
   "metadata": {},
   "outputs": [],
   "source": [
    "# The graph shows that fires predominantly occur in a relatively few types of building (Exponentially distributed)\n",
    "# TODO:quantify distribution, fit model (it's categorical so can't)"
   ]
  },
  {
   "cell_type": "code",
   "execution_count": null,
   "metadata": {},
   "outputs": [],
   "source": [
    "# TODO: Should I segment the number of buildings into broader categories?"
   ]
  },
  {
   "cell_type": "code",
   "execution_count": null,
   "metadata": {},
   "outputs": [],
   "source": [
    "# TODO: Check against number of houses in postcode to see risk, need to be proportionate to total number of houses "
   ]
  }
 ],
 "metadata": {
  "kernelspec": {
   "display_name": "Python 3",
   "language": "python",
   "name": "python3"
  },
  "language_info": {
   "codemirror_mode": {
    "name": "ipython",
    "version": 3
   },
   "file_extension": ".py",
   "mimetype": "text/x-python",
   "name": "python",
   "nbconvert_exporter": "python",
   "pygments_lexer": "ipython3",
   "version": "3.6.3"
  }
 },
 "nbformat": 4,
 "nbformat_minor": 2
}
